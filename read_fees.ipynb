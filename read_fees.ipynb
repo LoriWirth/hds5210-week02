{
 "cells": [
  {
   "cell_type": "markdown",
   "metadata": {
    "collapsed": true
   },
   "source": [
    "#Step 2\n",
    "#Write a function called read_fees that will read /final/fees_sample.xml and return the children of the parent root\n",
    "#in a dictionary format, where the key is member group, with subkeys :mail/retails, and sub-sub \n",
    "#keys type of fee and value cost. The function should do this for every child of parent root,fee_config\n"
   ]
  },
  {
   "cell_type": "code",
   "execution_count": null,
   "metadata": {
    "collapsed": false
   },
   "outputs": [],
   "source": [
    "# def find_unique_membergroup(filename_xml):\n",
    "#     '''This fnx will loop through the root from the xml document and return list of unique values for membergroup'''\n",
    "#     import xml.etree.ElementTree as xml\n",
    "#     tree=xml.parse(filename_xml)\n",
    "#     root=tree.getroot() \n",
    "#     group=[]\n",
    "#     groups=[]\n",
    "#     for i in range(len(root)):\n",
    "#         group.append(root[i].attrib)\n",
    "#     for i in range(len(group)):\n",
    "#         groups.append(group[i]['member_group'])\n",
    "#     return list(set(groups))"
   ]
  },
  {
   "cell_type": "code",
   "execution_count": null,
   "metadata": {
    "collapsed": false,
    "scrolled": true
   },
   "outputs": [],
   "source": [
    "# def xml_to_dict(filename_xml):\n",
    "#     \"\"\"This fnx turns xml document into list of dicts\"\"\"\n",
    "#     import xml.etree.ElementTree as xml\n",
    "#     tree=xml.parse(filename_xml)\n",
    "#     root=tree.getroot()\n",
    "#     y=[]\n",
    "#     for i in range(len(root)):\n",
    "#         y.append(root[i].attrib)\n",
    "#         for children in root[i]:\n",
    "#             y.append(children.tag)\n",
    "#             y.append(children.text)\n",
    "#     return y"
   ]
  },
  {
   "cell_type": "code",
   "execution_count": null,
   "metadata": {
    "collapsed": true
   },
   "outputs": [],
   "source": [
    "# def listToKey_Val(filename_xml):\n",
    "#     import xml.etree.ElementTree as xml\n",
    "#     import jupyterimporter\n",
    "#     import extract\n",
    "#     tree=xml.parse(filename_xml)\n",
    "#     root=tree.getroot() \n",
    "#     com=extract.extract(filename_xml)\n",
    "#     y=xml_to_dict(filename_xml)\n",
    "#     index=[]\n",
    "#     collect=[]\n",
    "#     output=[]\n",
    "#     for comer in range(len(com)):\n",
    "#         rownum=y.index(com[comer])\n",
    "#         index.append(rownum)\n",
    "#     #     find first occurence of combo and report everything until next combo\n",
    "#     for n in range(len(index)):\n",
    "#         try:\n",
    "#             collect.append(y[index[n]+1:index[n+1]])\n",
    "#         except IndexError :\n",
    "#             collect.append(y[index[n]+1:])\n",
    "#     def foo(somelist):\n",
    "#         k={}\n",
    "#         for i in range(2,len(somelist),2):\n",
    "#             try:\n",
    "#                 k.update({somelist[0]:somelist[1]} )  \n",
    "#                 k.update({somelist[i]:somelist[i+1]} ) \n",
    "#             except IndexError:\n",
    "#                 pass   \n",
    "#             return k\n",
    "#     for u in range(len(collect)):\n",
    "#         output.append(foo(collect[u]))\n",
    "#     return output"
   ]
  },
  {
   "cell_type": "code",
   "execution_count": null,
   "metadata": {
    "collapsed": false,
    "scrolled": true
   },
   "outputs": [],
   "source": [
    "def read_fees(filename_xml):\n",
    "    '''This code output the fees associated with each unique member group, assuming that\n",
    "    the fee structure is the same for each unique membergroup'''\n",
    "    #http://stackoverflow.com/questions/730764/try-except-in-python-how-do-you-properly-ignore-exceptions\n",
    "    import jupyterimporter\n",
    "    import find_unique_membergroup\n",
    "    import xml_to_dict\n",
    "    import listToKey_Val\n",
    "    output={}\n",
    "    check={}\n",
    "    group=find_unique_membergroup.find_unique_membergroup(filename_xml)\n",
    "    y=xml_to_dict.xml_to_dict(filename_xml)\n",
    "    pairs=listToKey_Val.listToKey_Val(filename_xml)\n",
    "    index=[]\n",
    "    for i in range(len(y)):\n",
    "        try:\n",
    "            if y[i]['mail_retail']:\n",
    "                index.append(y[i]['mail_retail'])\n",
    "        except Exception:\n",
    "            pass \n",
    "    for groups in range(len(group)):\n",
    "        for j in range(len(index)):\n",
    "            output[index[j]]=pairs[j]\n",
    "        check[group[groups]]=output\n",
    "    return check"
   ]
  },
  {
   "cell_type": "code",
   "execution_count": null,
   "metadata": {
    "collapsed": true
   },
   "outputs": [],
   "source": [
    "# def extract(filename_xml):\n",
    "#     '''Using y as an input and group,Let's create a function\n",
    "#     that add new key:value pairs admin_Fee:0.50...to respectively dictionary\n",
    "    \n",
    "#     # Starting with the index[0] in the dictionary, combo, find its match in y, then look at line below it to \n",
    "#     # create a key with its value 2 lines below that\n",
    "#     #add the new key value pair to a new data set that combines the values form combo with its keys\n",
    "#     #repeat the key/value process until there is a match between the second index of combo\n",
    "#     #restart the process'''\n",
    "#     import xml.etree.ElementTree as xml\n",
    "#     tree=xml.parse(filename_xml)\n",
    "#     root=tree.getroot() \n",
    "#     y=xml_to_dict(filename_xml)\n",
    "#     # create a dicionary,combo, with every line in y that has retail_name in ('MAIl','RETAIL')\n",
    "#     combo=[]\n",
    "#     for item in range(len(y)):\n",
    "#         if \"mail\" in str(y[item]):\n",
    "#             combo.append(y[item])\n",
    "#     return combo"
   ]
  }
 ],
 "metadata": {
  "kernelspec": {
   "display_name": "Python 3",
   "language": "python",
   "name": "python3"
  },
  "language_info": {
   "codemirror_mode": {
    "name": "ipython",
    "version": 3
   },
   "file_extension": ".py",
   "mimetype": "text/x-python",
   "name": "python",
   "nbconvert_exporter": "python",
   "pygments_lexer": "ipython3",
   "version": "3.4.3"
  }
 },
 "nbformat": 4,
 "nbformat_minor": 0
}
