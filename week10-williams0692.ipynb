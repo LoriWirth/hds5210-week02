{
 "cells": [
  {
   "cell_type": "code",
   "execution_count": null,
   "metadata": {
    "collapsed": true
   },
   "outputs": [],
   "source": [
    "Algorithm 1\n",
    "#Create header\n",
    "Create empty list\n",
    "exract column 2 from input\n",
    "Create unique list from the extaction\n",
    "Create a new empty list\n",
    "append the unique list that was previously created\n",
    "insert \"name\" at the 0 poistion\n",
    "\n",
    "subset input to excluded row 1\n",
    "Extract all the names of col.1 \n",
    "create unique list of this extraction\n",
    "\n",
    "#create data\n",
    "for every iter through the unqiue list of name\n",
    "\tfor every iter through the unique list of labels\n",
    ", create new list\n",
    "if name[iter] and label[iter],\n",
    "\tthis list inludes: name[iter]\n",
    "\tappend the value where name[iter] and\n",
    "\tweek[iter]\n",
    "\tappend the value where name[iter] and week[inter1]\n",
    "\t(keep appending at each loop of week [iter]\n",
    "if name[iter] and week[iter] does not exist then append, \"none\"\n",
    "#append data to header"
   ]
  },
  {
   "cell_type": "code",
   "execution_count": null,
   "metadata": {
    "collapsed": false
   },
   "outputs": [],
   "source": [
    "#Algorithm 2\n",
    "create xml structure where name is the root element,\n",
    " and week1,week2,week3, week4 are child elemements with attribute,\n",
    "value\n",
    "\n",
    "open list of list as json file\n",
    "load file\n",
    "concatenate name+week1+week2+...+value\n",
    "next we append all the row of the concatenation\n",
    "\n"
   ]
  },
  {
   "cell_type": "code",
   "execution_count": null,
   "metadata": {
    "collapsed": true
   },
   "outputs": [],
   "source": [
    "I expect that the second algorithm will take less time as it does not depend on an iterative\n",
    "process as does the for loops in algotithm 1\n"
   ]
  },
  {
   "cell_type": "code",
   "execution_count": null,
   "metadata": {
    "collapsed": true
   },
   "outputs": [],
   "source": [
    "%%bash\n",
    "cd ~/notebooks/hds5210-week02/\n",
    "git add week10-williams0692.ipynb\n",
    "git commit -a -m \"Adding homework for week 10\"\n",
    "git push"
   ]
  }
 ],
 "metadata": {
  "kernelspec": {
   "display_name": "Python 3",
   "language": "python",
   "name": "python3"
  },
  "language_info": {
   "codemirror_mode": {
    "name": "ipython",
    "version": 3
   },
   "file_extension": ".py",
   "mimetype": "text/x-python",
   "name": "python",
   "nbconvert_exporter": "python",
   "pygments_lexer": "ipython3",
   "version": "3.4.3"
  }
 },
 "nbformat": 4,
 "nbformat_minor": 0
}
