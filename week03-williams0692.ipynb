{
 "cells": [
  {
   "cell_type": "markdown",
   "metadata": {},
   "source": [
    "# 1- Creating Functions"
   ]
  },
  {
   "cell_type": "markdown",
   "metadata": {},
   "source": [
    "# Creating Fnx for three numbers"
   ]
  },
  {
   "cell_type": "code",
   "execution_count": 4,
   "metadata": {
    "collapsed": false
   },
   "outputs": [],
   "source": [
    "def sumfnx(a,b,c):\n",
    "    add=a+b+c\n",
    "    return add"
   ]
  },
  {
   "cell_type": "markdown",
   "metadata": {},
   "source": [
    "# testing fnx sumfnx"
   ]
  },
  {
   "cell_type": "code",
   "execution_count": 5,
   "metadata": {
    "collapsed": false,
    "scrolled": true
   },
   "outputs": [
    {
     "data": {
      "text/plain": [
       "3"
      ]
     },
     "execution_count": 5,
     "metadata": {},
     "output_type": "execute_result"
    }
   ],
   "source": [
    "sumfnx(1,1,1)"
   ]
  },
  {
   "cell_type": "markdown",
   "metadata": {},
   "source": [
    "# Use fnx to sum 8 number"
   ]
  },
  {
   "cell_type": "code",
   "execution_count": 6,
   "metadata": {
    "collapsed": false
   },
   "outputs": [
    {
     "data": {
      "text/plain": [
       "89"
      ]
     },
     "execution_count": 6,
     "metadata": {},
     "output_type": "execute_result"
    }
   ],
   "source": [
    "sumfnx(sumfnx(4, 9, 12),sumfnx(8, 16, 19),sumfnx(11, 10, 0))"
   ]
  },
  {
   "cell_type": "markdown",
   "metadata": {},
   "source": [
    "# 2-Understanding Functions\n",
    "'''temp = 103\n",
    "\n",
    "def calculate_target (temp):\n",
    "    temp -= 4\n",
    "    return temp\n",
    "\n",
    "calculate_target (temp)\n",
    "\n",
    "print(\"The current value of temp is \" + str(temp))\n",
    "'''"
   ]
  },
  {
   "cell_type": "code",
   "execution_count": 7,
   "metadata": {
    "collapsed": true
   },
   "outputs": [],
   "source": [
    "temp = 103 #Defining external var called \"temp\""
   ]
  },
  {
   "cell_type": "code",
   "execution_count": 8,
   "metadata": {
    "collapsed": false
   },
   "outputs": [
    {
     "data": {
      "text/plain": [
       "99"
      ]
     },
     "execution_count": 8,
     "metadata": {},
     "output_type": "execute_result"
    }
   ],
   "source": [
    "def calculate_target (temp): \n",
    "    temp -= 4 \n",
    "    return temp\n",
    "calculate_target (temp)\n",
    "#This step defines a fnx called \"calculate_target\" that uses an internal variable, called \"temp\".\n",
    "#The internal var \"temp\" is calculated by utilizing the external var, \"temp\".\n",
    "#We evaluate the right side of the equation 4, then apply the left: 4-103= -99 It comes out as positive\n",
    "#due to its type."
   ]
  },
  {
   "cell_type": "code",
   "execution_count": 2,
   "metadata": {
    "collapsed": false,
    "scrolled": true
   },
   "outputs": [
    {
     "data": {
      "text/plain": [
       "99"
      ]
     },
     "execution_count": 2,
     "metadata": {},
     "output_type": "execute_result"
    }
   ],
   "source": [
    "calculate_target (103)"
   ]
  },
  {
   "cell_type": "code",
   "execution_count": null,
   "metadata": {
    "collapsed": true
   },
   "outputs": [],
   "source": [
    "print(( \"The current value of temp is \" + str(temp))\n",
    "#'''This step create a string statement from the concatenation of \"The current value of temp is \"\n",
    "and the string version of the externlal var, temp (the functios not called hence it does not refer\n",
    "                                                  to the internal variable) from the fuction above.\n",
    "\n",
    "\"The current value of temp is 103\"'''"
   ]
  },
  {
   "cell_type": "code",
   "execution_count": 9,
   "metadata": {
    "collapsed": false
   },
   "outputs": [
    {
     "name": "stdout",
     "output_type": "stream",
     "text": [
      "The current value of temp is 103\n"
     ]
    }
   ],
   "source": [
    "print(\"The current value of temp is \" + str(temp))"
   ]
  },
  {
   "cell_type": "markdown",
   "metadata": {},
   "source": [
    "# 3-Parsing Dosage Amounts and Units\n",
    "'''\n",
    "Create a function that will take as input an infusion dosage value and unit in the format # volume/time such as 45 mg/hr or 0.2 L/hr, and return just the numeric part of the dosage. It should return the numeric part as a floating point decimal number so that calculations can easily be done with the number.\n",
    "\n",
    "Demonstrate that your function works correctly using each of these tests:\n",
    "1.0 L/hr\n",
    "10 mg/hr\n",
    "0.75 g/day\n",
    "'''"
   ]
  },
  {
   "cell_type": "code",
   "execution_count": 50,
   "metadata": {
    "collapsed": false
   },
   "outputs": [
    {
     "data": {
      "text/plain": [
       "'1.0'"
      ]
     },
     "execution_count": 50,
     "metadata": {},
     "output_type": "execute_result"
    }
   ],
   "source": [
    "#Exploring options to use in my fnx\n",
    "##help(str)\n",
    "a=dosage_unfmt.split()\n",
    "a\n",
    "a[0]  #Bingo! This fnx breaks down and list any string by a specified separator, where \" \" is default. I can then subset\n",
    "        ## in order to sparse the nummeric value"
   ]
  },
  {
   "cell_type": "code",
   "execution_count": 10,
   "metadata": {
    "collapsed": true
   },
   "outputs": [],
   "source": [
    "def dose(dosage_unfmt):\n",
    "    '''Enter string such as \"45 mg/hr\" or \"0.2 L/hr\" '''\n",
    "    a=dosage_unfmt.split()\n",
    "    return float(a[0])"
   ]
  },
  {
   "cell_type": "code",
   "execution_count": 59,
   "metadata": {
    "collapsed": false
   },
   "outputs": [
    {
     "data": {
      "text/plain": [
       "1.0"
      ]
     },
     "execution_count": 59,
     "metadata": {},
     "output_type": "execute_result"
    }
   ],
   "source": [
    "dosage_unfmt=\"1.0 L/hr\"\n",
    "dose(dosage_unfmt)"
   ]
  },
  {
   "cell_type": "code",
   "execution_count": 60,
   "metadata": {
    "collapsed": false,
    "scrolled": true
   },
   "outputs": [
    {
     "data": {
      "text/plain": [
       "10.0"
      ]
     },
     "execution_count": 60,
     "metadata": {},
     "output_type": "execute_result"
    }
   ],
   "source": [
    "dosage_unfmt=\"10 mg/hr\"\n",
    "dose(dosage_unfmt)"
   ]
  },
  {
   "cell_type": "code",
   "execution_count": 61,
   "metadata": {
    "collapsed": false
   },
   "outputs": [
    {
     "data": {
      "text/plain": [
       "0.75"
      ]
     },
     "execution_count": 61,
     "metadata": {},
     "output_type": "execute_result"
    }
   ],
   "source": [
    "dosage_unfmt=\"0.75 g/day\"\n",
    "dose(dosage_unfmt)"
   ]
  },
  {
   "cell_type": "markdown",
   "metadata": {},
   "source": [
    "# 4-Parsing and Rewriting a String\n",
    "'''\n",
    "Create another function or collection of functions that will take a string in the format drug # volumne/time such as Asprin 20 mg/hr, and return a string in the format In one hr, the patient will have received 20 mg of Asprin.  Doubling the dosage to 40 mg would be dangerous!. Be sure that you reuse the other functions you've created in this assignment if possible.\n",
    "\n",
    "Demonstrate that your function works correctly using these tests:\n",
    "Asprin 20 mg/hr\n",
    "Amoxicillin 300 mg/day\n",
    "'''\n"
   ]
  },
  {
   "cell_type": "code",
   "execution_count": 12,
   "metadata": {
    "collapsed": false
   },
   "outputs": [],
   "source": [
    "def dose2(dosage_unfmt):\n",
    "    '''enter string such as  \"Amoxicillin 300 mg/day.\" Output matrix of objects before '/'.\n",
    "    eg. Amoxicillin 300 mg/day-> (Amoxicillin, 300, mg)'''\n",
    "    a=dosage_unfmt.split(sep= \"/\")\n",
    "    b= a[0].split()\n",
    "    return b"
   ]
  },
  {
   "cell_type": "code",
   "execution_count": 13,
   "metadata": {
    "collapsed": true
   },
   "outputs": [],
   "source": [
    "def dose3(dosage_unfmt):\n",
    "    '''enter string such as  \"Amoxicillin 300 mg/day.\" Output matrix of objects after '/'.\n",
    "    eg. Amoxicillin 300 mg/day-> (day)'''\n",
    "    a=dosage_unfmt.split(sep= \"/\")\n",
    "    return a[1]"
   ]
  },
  {
   "cell_type": "code",
   "execution_count": 15,
   "metadata": {
    "collapsed": false
   },
   "outputs": [],
   "source": [
    "dosage_unfmt=\"Asprin 20 mg/hr\""
   ]
  },
  {
   "cell_type": "code",
   "execution_count": 17,
   "metadata": {
    "collapsed": false
   },
   "outputs": [
    {
     "data": {
      "text/plain": [
       "['Asprin', '20', 'mg']"
      ]
     },
     "execution_count": 17,
     "metadata": {},
     "output_type": "execute_result"
    }
   ],
   "source": [
    "dose2(dosage_unfmt)"
   ]
  },
  {
   "cell_type": "code",
   "execution_count": 18,
   "metadata": {
    "collapsed": false
   },
   "outputs": [
    {
     "data": {
      "text/plain": [
       "'hr'"
      ]
     },
     "execution_count": 18,
     "metadata": {},
     "output_type": "execute_result"
    }
   ],
   "source": [
    "dose3(dosage_unfmt)"
   ]
  },
  {
   "cell_type": "code",
   "execution_count": 25,
   "metadata": {
    "collapsed": false
   },
   "outputs": [
    {
     "name": "stdout",
     "output_type": "stream",
     "text": [
      "In one hr the patient will have received 20mg of Asprin. Doubling the dosage to 40.0mg would be dangerous!.\n"
     ]
    }
   ],
   "source": [
    "print(\"In one \" + str( dose3(dosage_unfmt) ) + \" the patient will have received \" + str( ( ( dose2(dosage_unfmt) )[1] ) ) \n",
    "      + str( ( ( dose2(dosage_unfmt) )[2] ) )+ \" of \" + str( ( ( dose2(dosage_unfmt) )[0] ) )\n",
    "      + \". Doubling the dosage to \" + str( (float( ( (dose2(dosage_unfmt) )[1] ) ) *2 ) ) + str( ( ( dose2(dosage_unfmt) )[2] ) )\n",
    "      + \" would be dangerous!.\")"
   ]
  },
  {
   "cell_type": "code",
   "execution_count": 27,
   "metadata": {
    "collapsed": true
   },
   "outputs": [],
   "source": [
    "dosage_unfmt=\"Amoxicillin 300 mg/day\""
   ]
  },
  {
   "cell_type": "code",
   "execution_count": 28,
   "metadata": {
    "collapsed": false
   },
   "outputs": [
    {
     "name": "stdout",
     "output_type": "stream",
     "text": [
      "In one day the patient will have received 300mg of Amoxicillin. Doubling the dosage to 600.0mg would be dangerous!.\n"
     ]
    }
   ],
   "source": [
    "print(\"In one \" + str( dose3(dosage_unfmt) ) + \" the patient will have received \" + str( ( ( dose2(dosage_unfmt) )[1] ) ) \n",
    "      + str( ( ( dose2(dosage_unfmt) )[2] ) )+ \" of \" + str( ( ( dose2(dosage_unfmt) )[0] ) )\n",
    "      + \". Doubling the dosage to \" + str( (float( ( (dose2(dosage_unfmt) )[1] ) ) *2 ) ) + str( ( ( dose2(dosage_unfmt) )[2] ) )\n",
    "      + \" would be dangerous!.\")"
   ]
  },
  {
   "cell_type": "markdown",
   "metadata": {},
   "source": [
    "# Commit and Push file to Github.com"
   ]
  },
  {
   "cell_type": "code",
   "execution_count": 4,
   "metadata": {
    "collapsed": false,
    "scrolled": true
   },
   "outputs": [
    {
     "name": "stdout",
     "output_type": "stream",
     "text": [
      "[master 0bfcee6] Adding homework for week 3\n",
      " 1 file changed, 571 insertions(+)\n",
      " create mode 100644 week03-williams0692.ipynb\n"
     ]
    },
    {
     "name": "stderr",
     "output_type": "stream",
     "text": [
      "warning: push.default is unset; its implicit value has changed in\n",
      "Git 2.0 from 'matching' to 'simple'. To squelch this message\n",
      "and maintain the traditional behavior, use:\n",
      "\n",
      "  git config --global push.default matching\n",
      "\n",
      "To squelch this message and adopt the new behavior now, use:\n",
      "\n",
      "  git config --global push.default simple\n",
      "\n",
      "When push.default is set to 'matching', git will push local branches\n",
      "to the remote branches that already exist with the same name.\n",
      "\n",
      "Since Git 2.0, Git defaults to the more conservative 'simple'\n",
      "behavior, which only pushes the current branch to the corresponding\n",
      "remote branch that 'git pull' uses to update the current branch.\n",
      "\n",
      "See 'git help config' and search for 'push.default' for further information.\n",
      "(the 'simple' mode was introduced in Git 1.7.11. Use the similar mode\n",
      "'current' instead of 'simple' if you sometimes use older versions of Git)\n",
      "\n",
      "To git@github.com:williams0692/hds5210-week02.git\n",
      "   5c7a0fc..0bfcee6  master -> master\n"
     ]
    }
   ],
   "source": [
    "%%bash\n",
    "cd ~/notebooks/hds5210-week02/\n",
    "git add week03-williams0692.ipynb\n",
    "git commit -a -m \"Adding homework for week 3\"\n",
    "git push"
   ]
  }
 ],
 "metadata": {
  "kernelspec": {
   "display_name": "Python 3",
   "language": "python",
   "name": "python3"
  },
  "language_info": {
   "codemirror_mode": {
    "name": "ipython",
    "version": 3
   },
   "file_extension": ".py",
   "mimetype": "text/x-python",
   "name": "python",
   "nbconvert_exporter": "python",
   "pygments_lexer": "ipython3",
   "version": "3.4.3"
  }
 },
 "nbformat": 4,
 "nbformat_minor": 0
}
