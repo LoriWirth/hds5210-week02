{
 "cells": [
  {
   "cell_type": "markdown",
   "metadata": {
    "collapsed": true
   },
   "source": [
    "# Week 12 - Introduction to Databases \n",
    "\n",
    "This week, we're talking about different types of databases and database concepts.\n",
    "See \n",
    "https://docs.google.com/presentation/d/13-1Q497SZTUYu-nrWuGImg5k6XXyn1sU0fa8yhc6VjQ/edit?usp=sharing\n",
    "    for our lecture and chatper 17 in the text.\n"
   ]
  },
  {
   "cell_type": "markdown",
   "metadata": {
    "collapsed": true
   },
   "source": [
    "# 1. Types of Databases \n",
    "\n",
    "10 pts\n",
    "\n",
    "We talked in class about several different types of databaes and how they are typically used. For this first part of the assignment, think about a real-world scenario such where you might need to use a database. Maybe it's around the collection of claim data, or medical procedures, or drug administration, or public health. Describe how that data might be managed using two different database types. Explain why you chose those two and what some of the pros and cons might be of using each database type for that particular scenario.\n",
    "## 1.Describe you scenario\n",
    "\n",
    "Scenario: I want to scrape data from a forum using a link to the site. The website stores it's data in XML, utilizing tags such as <weight>, <height>, <name>, <message>. The message tag\n",
    "hosts conversations surrounding topics such as steroid use and eating disorders that I would like to apply content analysis and data visualization. \n",
    "\n",
    "## 2.Pick two different database styles (relational, document, key/value, graph, hadoop) and explain why you chose those two as options for this scenario.\n",
    "'''\n",
    "Choice 1: Document--A document database allows me the ability to store all records from a single individual in its own \"record.\"\n",
    "Choice 2: Key/ Value\n",
    "'''\n",
    "\n",
    "## 3.Explain the pros and cons of each, relative to your scenario\n",
    "'''\n",
    "Choice 1--\n",
    "Pros: \n",
    "1. Since all related files, for example for each username is linked to one document, I will be able to more quickly select users who I want to include/exclude for my analysis, depending on the topic area--saving time!\n",
    "2. Open-source sofewares such as MongoDB are available! Economics!\n",
    "Cons:\n",
    "1. Document databases such as MongoDB utilize JSON; therefore, if I want to use a data stored in XML, I need to first reformat the document to JSON.\n",
    "\n",
    "Choice 2--\n",
    "Pros:\n",
    "1. Flexible\n",
    "2. Utilizes XML, JSON, and HTML-no reformatting!\n",
    "3. Speed- knowing the key, such as searching for the tag, <message> directory allows for quering that field\n",
    "4. Simple\n",
    "Cons:\n",
    "1. Nesting is limited\n",
    "'''\n",
    "\n"
   ]
  },
  {
   "cell_type": "markdown",
   "metadata": {
    "collapsed": true
   },
   "source": [
    "# 2. Joins \n",
    "5 pts\n",
    "In class, we discussed how relational databases perform joins between tables. Describe the relationship between what you learned about database joins and the join function that we created as part of the midterm by answering the questions below.\n",
    "\n",
    "## 1.Why do relational databases store data in different tables that have to later be joined together?\n",
    "Answer: This is to for efficiency and flexibility. Since the data remains in different tables, data users are able to utlize data in myriad scenerios only utilizing peices of the data that they are interested in.\n",
    "\n",
    "## 2.How does a database do a join?\n",
    "Answer:Joins are done in different ways:  outer join, inner join, left/right join, and cross join. All are based on a \"primary key\" that they both tables being joined have in common. \n",
    "An outter join combines all the rows from each table being joined, even if there is no matching field; it appends.\n",
    "An inner join combined rows from two tables, where there is a common field; it merges.\n",
    "left/right join gives all rows in the left/right table even if there is no match, plus matching rows in the right/left table.\n",
    "A cross join produces the Cartesian product of two tables. Why?\n",
    "\n",
    "## 3.In general, which is better: joining two tables inside a database with SQL or extracting the data from each table and doing the join in Python? Why?\n",
    "Answer:They are probably very similar, since Python has a SQL module. I would imagine that the relationship database would be a better way since it was built for just that. Also, why deal with more data that you need to?"
   ]
  },
  {
   "cell_type": "markdown",
   "metadata": {
    "collapsed": true
   },
   "source": [
    "3. Database Access with mysqlclient \n",
    "\n",
    "5 pts\n",
    "\n",
    "Use the Python mysqlclient module as demonstrated in class to query \n",
    "the cdi table to describe how many unique (distinct) values there are for each of the fields\n",
    "(columns) below:\n",
    "•DataSource\n",
    "•DataValueType\n",
    "•LocationAbbr\n",
    "•Question\n",
    "•Topic\n",
    "•TopicID\n",
    "•YearEnd\n"
   ]
  },
  {
   "cell_type": "code",
   "execution_count": 32,
   "metadata": {
    "collapsed": false
   },
   "outputs": [],
   "source": [
    "import pymysql.cursors\n",
    "\n",
    "connection = pymysql.connect(\n",
    "    host='localhost',\n",
    "    user='slucor',\n",
    "    password='S1UC0R',\n",
    "    db='hds5210',\n",
    "    cursorclass=pymysql.cursors.DictCursor)\n",
    "\n",
    "cursor = connection.cursor()\n",
    "# Read a single record\n",
    "sqlList=[\"SELECT COUNT(DISTINCT DataSource)   AS Datasource  FROM  cdi\",\n",
    "        \"SELECT COUNT(DISTINCT DataValueType) AS DataValueType  FROM  cdi\",\n",
    "        \"SELECT COUNT(DISTINCT LocationAbbr)  AS LocationAbbr  FROM  cdi\",\n",
    "        \"SELECT COUNT(DISTINCT Question)      AS Question  FROM  cdi\",\n",
    "        \"SELECT COUNT(DISTINCT Topic)         AS Topic  FROM  cdi\",\n",
    "         \"SELECT COUNT(DISTINCT TopicID)      AS TopicID  FROM  cdi\",\n",
    "         \"SELECT COUNT(DISTINCT YearEnd)      AS YearEnd FROM  cdi\",\n",
    "        ]\n",
    "output=[]\n",
    "for i in range(len(sqlList)):\n",
    "    sql = sqlList[i]\n",
    "    cursor.execute(sql)\n",
    "    result = cursor.fetchall()\n",
    "    output.append(result)\n",
    "connection.close()"
   ]
  },
  {
   "cell_type": "code",
   "execution_count": 33,
   "metadata": {
    "collapsed": false,
    "scrolled": true
   },
   "outputs": [
    {
     "data": {
      "text/plain": [
       "[[{'Datasource': 32}],\n",
       " [{'DataValueType': 19}],\n",
       " [{'LocationAbbr': 55}],\n",
       " [{'Question': 201}],\n",
       " [{'Topic': 17}],\n",
       " [{'TopicID': 17}],\n",
       " [{'YearEnd': 8}]]"
      ]
     },
     "execution_count": 33,
     "metadata": {},
     "output_type": "execute_result"
    }
   ],
   "source": [
    "output"
   ]
  },
  {
   "cell_type": "code",
   "execution_count": 34,
   "metadata": {
    "collapsed": false
   },
   "outputs": [
    {
     "name": "stdout",
     "output_type": "stream",
     "text": [
      "[master 4720ec0] Adding homework for week 12\n",
      " 2 files changed, 250 insertions(+), 3 deletions(-)\n",
      " create mode 100644 week12-williams0692.ipynb\n"
     ]
    },
    {
     "name": "stderr",
     "output_type": "stream",
     "text": [
      "warning: push.default is unset; its implicit value has changed in\n",
      "Git 2.0 from 'matching' to 'simple'. To squelch this message\n",
      "and maintain the traditional behavior, use:\n",
      "\n",
      "  git config --global push.default matching\n",
      "\n",
      "To squelch this message and adopt the new behavior now, use:\n",
      "\n",
      "  git config --global push.default simple\n",
      "\n",
      "When push.default is set to 'matching', git will push local branches\n",
      "to the remote branches that already exist with the same name.\n",
      "\n",
      "Since Git 2.0, Git defaults to the more conservative 'simple'\n",
      "behavior, which only pushes the current branch to the corresponding\n",
      "remote branch that 'git pull' uses to update the current branch.\n",
      "\n",
      "See 'git help config' and search for 'push.default' for further information.\n",
      "(the 'simple' mode was introduced in Git 1.7.11. Use the similar mode\n",
      "'current' instead of 'simple' if you sometimes use older versions of Git)\n",
      "\n",
      "To git@github.com:williams0692/hds5210-week02.git\n",
      "   f5cd116..4720ec0  master -> master\n"
     ]
    }
   ],
   "source": [
    "%%bash\n",
    "cd ~/notebooks/hds5210-week02/\n",
    "git add week12-williams0692.ipynb\n",
    "git commit -a -m \"Adding homework for week 12\"\n",
    "git push"
   ]
  }
 ],
 "metadata": {
  "kernelspec": {
   "display_name": "Python 3",
   "language": "python",
   "name": "python3"
  },
  "language_info": {
   "codemirror_mode": {
    "name": "ipython",
    "version": 3
   },
   "file_extension": ".py",
   "mimetype": "text/x-python",
   "name": "python",
   "nbconvert_exporter": "python",
   "pygments_lexer": "ipython3",
   "version": "3.4.3"
  }
 },
 "nbformat": 4,
 "nbformat_minor": 0
}
