{
 "cells": [
  {
   "cell_type": "markdown",
   "metadata": {},
   "source": [
    "# Background \n",
    "\n",
    "JSON files are often used not just to store data, but also to store configuration information for how a program should run. This way, your program doesn't have to be changed when minor configuration changes are all that need to change. Examples might include database configuration information, source database table names, date ranges for data processing, etc. The final includes a JSON file that provides important configuration information that will be used to direct the rest of your program on how to combine and process the data from an XML file and a SQL database. First, however, you'll need to read all the instructions and describe your approach / algorithm for solving the final exam.\n",
    "JSON Configuration --------------------------------------\\\n",
    "                                                          >---> Total Cost per Claim\n",
    "SQL Database: Prescription Claims ---------------\\       /\n",
    "                                                  >-----/\n",
    "XML File: Mapping of Member Group to Admin Fee --/\n",
    "\n"
   ]
  },
  {
   "cell_type": "markdown",
   "metadata": {
    "collapsed": false
   },
   "source": [
    "#Step 1\n",
    "#Write a function called setup to Read /final/config_sample.json and return a dictionary \n",
    "#that has key/value pairs,member group as the key and a list of cost field names as the values\n",
    "\n",
    "#Step 2\n",
    "#Write a function called read_fees that will read /final/fees_sample.xml and return the children of the parent root\n",
    "#in a dictionary format, where the key is member group, with subkeys :mail/retails, and sub-sub \n",
    "#keys type of fee and value cost. The function should do this for every child of parent root,fee_config\n",
    "\n",
    "\n",
    "#Step 3\n",
    "#Write a function called calc_total_cost that takes parameters:(\n",
    "#config, the disctionary returned from the setup function\n",
    "#fees, the dictionary returned from the read_fees function\n",
    "#member_group\n",
    "#mail_retail\n",
    "#) and returns the resulting total cost.\n",
    "\n",
    "#Step 4\n",
    "#Write function to read data from SQL database, that utilizes previous functions to calculate total cost and\n",
    "#return total cost as an attribute in th database\n",
    "\n",
    "#Step 4a\n",
    "Pull all fields from the claims database by using the Setup module to identify important login information\n",
    "\n",
    "Step 4b\n",
    "#Match the member group ID and the mail_retail code from the claims filed for the prices needed in the fees. Take the #ingredient cost the the claims database. Sum all the cost together and round to the 2 dec places\n",
    "\n",
    "#Step 4c\n",
    "Update the the claims database with new key, Total cost, and result from the sum process\n",
    "\n",
    "#Step 5\n",
    "Check to make sure cost is accurate and dedug if neccessary"
   ]
  },
  {
   "cell_type": "code",
   "execution_count": 1,
   "metadata": {
    "collapsed": false
   },
   "outputs": [
    {
     "name": "stdout",
     "output_type": "stream",
     "text": [
      "importing Jupyter notebook from Setup.ipynb\n",
      "importing Jupyter notebook from read_fees.ipynb\n",
      "importing Jupyter notebook from calc_total_cost.ipynb\n"
     ]
    }
   ],
   "source": [
    "import xml.etree.ElementTree as xml\n",
    "import json\n",
    "import doctest\n",
    "import pymysql.cursors\n",
    "import jupyterimporter\n",
    "import Setup \n",
    "import read_fees\n",
    "import calc_total_cost"
   ]
  },
  {
   "cell_type": "code",
   "execution_count": 2,
   "metadata": {
    "collapsed": false
   },
   "outputs": [],
   "source": [
    "filename=\"/final/config_sample.json\"\n",
    "filename_xml=\"/final/fees_sample.xml\""
   ]
  },
  {
   "cell_type": "code",
   "execution_count": 3,
   "metadata": {
    "collapsed": false
   },
   "outputs": [
    {
     "data": {
      "text/plain": [
       "{'Cost Field Mapping': {'AZ001': ['incredient_cost', 'admin_fee'],\n",
       "  'MG001': ['ingredient_cost', 'admin_fee', 'rebate_amount'],\n",
       "  'MG002': ['ingredient_cost']},\n",
       " 'Database Host': 'localhost',\n",
       " 'Database Name': 'hds5210',\n",
       " 'Database Password': 'S1UC0R',\n",
       " 'Database User': 'slucor',\n",
       " 'End Date': '2016-11-30',\n",
       " 'Start Date': '2016-11-01'}"
      ]
     },
     "execution_count": 3,
     "metadata": {},
     "output_type": "execute_result"
    }
   ],
   "source": [
    "'''This function turns the json file into dict format'''\n",
    "Setup.setup_two(filename)"
   ]
  },
  {
   "cell_type": "code",
   "execution_count": 4,
   "metadata": {
    "collapsed": false
   },
   "outputs": [
    {
     "data": {
      "text/plain": [
       "{'AZ001': ['incredient_cost', 'admin_fee'],\n",
       " 'MG001': ['ingredient_cost', 'admin_fee', 'rebate_amount'],\n",
       " 'MG002': ['ingredient_cost']}"
      ]
     },
     "execution_count": 4,
     "metadata": {},
     "output_type": "execute_result"
    }
   ],
   "source": [
    "'''This fnx extract from the above dict and outputs only my \n",
    "cost related information'''\n",
    "Setup.setup(filename)"
   ]
  },
  {
   "cell_type": "code",
   "execution_count": 5,
   "metadata": {
    "collapsed": false
   },
   "outputs": [
    {
     "name": "stdout",
     "output_type": "stream",
     "text": [
      "importing Jupyter notebook from find_unique_membergroup.ipynb\n",
      "importing Jupyter notebook from xml_to_dict.ipynb\n",
      "importing Jupyter notebook from listToKey_Val.ipynb\n",
      "importing Jupyter notebook from extract.ipynb\n"
     ]
    },
    {
     "data": {
      "text/plain": [
       "{'MG001': {'MAIL': {'admin_fee': '0.50', 'processing_fee': '0.05'},\n",
       "  'RETAIL': {'admin_fee': '0.50', 'processing_fee': '0.10'}}}"
      ]
     },
     "execution_count": 5,
     "metadata": {},
     "output_type": "execute_result"
    }
   ],
   "source": [
    "'''This fnx creates a map between the memberid group, retail_\n",
    "mail code and some of the cost. This fnx depend on the availability of\n",
    "others(extract, find_unique_membergroup etc see attached)'''\n",
    "read_fees.read_fees(filename_xml)"
   ]
  },
  {
   "cell_type": "code",
   "execution_count": 6,
   "metadata": {
    "collapsed": false
   },
   "outputs": [],
   "source": [
    "d=Setup.setup('/final/config.json')\n",
    "c=Setup.setup_two('/final/config.json')\n",
    "f=read_fees.read_fees('/final/fees.xml')\n",
    "connection = pymysql.connect(\n",
    "    host=c.get('Database Host'),\n",
    "    user=c.get('Database User'),\n",
    "    password=c.get('Database Password'),\n",
    "    db=c.get('Database Name'),\n",
    "    cursorclass=pymysql.cursors.DictCursor)\n",
    "\n",
    "cursor = connection.cursor()\n",
    "sqlList='SELECT * FROM claims'\n",
    "cursor.execute(sqlList)\n",
    "result=cursor.fetchall()\n",
    "connection.close()"
   ]
  },
  {
   "cell_type": "code",
   "execution_count": 7,
   "metadata": {
    "collapsed": false
   },
   "outputs": [],
   "source": [
    "'''This fnx pull the member group id of interest, the mail_order code\n",
    "then uses the calc_total_cost func along with in igredient cost \n",
    "from the claims file to calclulate a TOTAL COST'''\n",
    "config=d\n",
    "fees=f\n",
    "for i in range(len(result)):\n",
    "    ingredient_cost=result[i].get('ingredient_cost')\n",
    "    member_group=result[i].get('member_group')\n",
    "    mail_retail=result[i].get('mail_order_ind')\n",
    "    result[i].update({'TOTAL COST':calc_total_cost.calc_total_cost(config,fees,member_group,mail_retail,ingredient_cost)}) "
   ]
  },
  {
   "cell_type": "code",
   "execution_count": 8,
   "metadata": {
    "collapsed": false
   },
   "outputs": [
    {
     "data": {
      "text/plain": [
       "{'TOTAL COST': 4.6,\n",
       " 'benefit_plan_code': 'PBM',\n",
       " 'brand_generic_ind': 'GENERIC',\n",
       " 'business_unit_id': 'HNCA',\n",
       " 'copay_amount': Decimal('3.66000'),\n",
       " 'drug_ndc': '591533501',\n",
       " 'ingredient_cost': Decimal('2.41000'),\n",
       " 'lob_code': '',\n",
       " 'lob_desc': '',\n",
       " 'mail_order_ind': 'RETAIL',\n",
       " 'member_group': '2005',\n",
       " 'new_refill_indicator': 'REFILL',\n",
       " 'pa_indicator': 'N',\n",
       " 'paid_amount': Decimal('0.00000'),\n",
       " 'process_date': '2015-01-05',\n",
       " 'rx_count': '',\n",
       " 'rx_number': '913206',\n",
       " 'sales_tax': Decimal('0.00000')}"
      ]
     },
     "execution_count": 8,
     "metadata": {},
     "output_type": "execute_result"
    }
   ],
   "source": [
    "result[901]"
   ]
  },
  {
   "cell_type": "code",
   "execution_count": 9,
   "metadata": {
    "collapsed": false
   },
   "outputs": [
    {
     "data": {
      "text/plain": [
       "['ingredient_cost', 'admin_fee', 'processing_fee']"
      ]
     },
     "execution_count": 9,
     "metadata": {},
     "output_type": "execute_result"
    }
   ],
   "source": [
    "config['2005']"
   ]
  },
  {
   "cell_type": "code",
   "execution_count": 10,
   "metadata": {
    "collapsed": false
   },
   "outputs": [
    {
     "data": {
      "text/plain": [
       "{'MAIL': {'admin_fee': '0.07', 'processing_fee': '0.31'},\n",
       " 'RETAIL': {'admin_fee': '0.83', 'processing_fee': '1.36'}}"
      ]
     },
     "execution_count": 10,
     "metadata": {},
     "output_type": "execute_result"
    }
   ],
   "source": [
    "fees['2005']"
   ]
  },
  {
   "cell_type": "code",
   "execution_count": null,
   "metadata": {
    "collapsed": true
   },
   "outputs": [],
   "source": [
    "%%bash\n",
    "cd ~/notebooks/hds5210-week02/\n",
    "git add Final-williams0692.ipynb\n",
    "git add calc_total_cost.ipynb\n",
    "git add extract.ipynb\n",
    "git add find_unique membergroup.ipynb\n",
    "git add read_fees.ipynb\n",
    "git add Setup.ipynb\n",
    "git add xml_to_dict.ipynb\n",
    "git add listToKey_Val.ipynb\n",
    "git commit -a -m \"Adding Final\"\n",
    "git push"
   ]
  }
 ],
 "metadata": {
  "kernelspec": {
   "display_name": "Python 3",
   "language": "python",
   "name": "python3"
  },
  "language_info": {
   "codemirror_mode": {
    "name": "ipython",
    "version": 3
   },
   "file_extension": ".py",
   "mimetype": "text/x-python",
   "name": "python",
   "nbconvert_exporter": "python",
   "pygments_lexer": "ipython3",
   "version": "3.4.3"
  }
 },
 "nbformat": 4,
 "nbformat_minor": 0
}
