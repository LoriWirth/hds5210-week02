{
 "cells": [
  {
   "cell_type": "code",
   "execution_count": 3,
   "metadata": {
    "collapsed": true
   },
   "outputs": [],
   "source": [
    "def extract(filename_xml):\n",
    "    '''Using y as an input and group,Let's create a function\n",
    "    that add new key:value pairs admin_Fee:0.50...to respectively dictionary\n",
    "    \n",
    "    # Starting with the index[0] in the dictionary, combo, find its match in y, then look at line below it to \n",
    "    # create a key with its value 2 lines below that\n",
    "    #add the new key value pair to a new data set that combines the values form combo with its keys\n",
    "    #repeat the key/value process until there is a match between the second index of combo\n",
    "    #restart the process'''\n",
    "    import xml.etree.ElementTree as xml\n",
    "    import jupyterimporter\n",
    "    import xml_to_dict\n",
    "    tree=xml.parse(filename_xml)\n",
    "    root=tree.getroot() \n",
    "    y=xml_to_dict.xml_to_dict(filename_xml)\n",
    "    # create a dicionary,combo, with every line in y that has retail_name in ('MAIl','RETAIL')\n",
    "    combo=[]\n",
    "    for item in range(len(y)):\n",
    "        if \"mail\" in str(y[item]):\n",
    "            combo.append(y[item])\n",
    "    return combo"
   ]
  }
 ],
 "metadata": {
  "kernelspec": {
   "display_name": "Python 3",
   "language": "python",
   "name": "python3"
  },
  "language_info": {
   "codemirror_mode": {
    "name": "ipython",
    "version": 3
   },
   "file_extension": ".py",
   "mimetype": "text/x-python",
   "name": "python",
   "nbconvert_exporter": "python",
   "pygments_lexer": "ipython3",
   "version": "3.4.3"
  }
 },
 "nbformat": 4,
 "nbformat_minor": 0
}
