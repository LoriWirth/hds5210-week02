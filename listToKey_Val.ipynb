{
 "cells": [
  {
   "cell_type": "code",
   "execution_count": null,
   "metadata": {
    "collapsed": true
   },
   "outputs": [],
   "source": [
    "def listToKey_Val(filename_xml):\n",
    "    import xml.etree.ElementTree as xml\n",
    "    import jupyterimporter\n",
    "    import extract\n",
    "    import xml_to_dict\n",
    "    tree=xml.parse(filename_xml)\n",
    "    root=tree.getroot() \n",
    "    com=extract.extract(filename_xml)\n",
    "    y=xml_to_dict.xml_to_dict(filename_xml)\n",
    "    index=[]\n",
    "    collect=[]\n",
    "    output=[]\n",
    "    for comer in range(len(com)):\n",
    "        rownum=y.index(com[comer])\n",
    "        index.append(rownum)\n",
    "    #     find first occurence of combo and report everything until next combo\n",
    "    for n in range(len(index)):\n",
    "        try:\n",
    "            collect.append(y[index[n]+1:index[n+1]])\n",
    "        except IndexError :\n",
    "            collect.append(y[index[n]+1:])\n",
    "    def foo(somelist):\n",
    "        k={}\n",
    "        for i in range(2,len(somelist),2):\n",
    "            try:\n",
    "                k.update({somelist[0]:somelist[1]} )  \n",
    "                k.update({somelist[i]:somelist[i+1]} ) \n",
    "            except IndexError:\n",
    "                pass   \n",
    "            return k\n",
    "    for u in range(len(collect)):\n",
    "        output.append(foo(collect[u]))\n",
    "    return output"
   ]
  }
 ],
 "metadata": {
  "kernelspec": {
   "display_name": "Python 3",
   "language": "python",
   "name": "python3"
  },
  "language_info": {
   "codemirror_mode": {
    "name": "ipython",
    "version": 3
   },
   "file_extension": ".py",
   "mimetype": "text/x-python",
   "name": "python",
   "nbconvert_exporter": "python",
   "pygments_lexer": "ipython3",
   "version": "3.4.3"
  }
 },
 "nbformat": 4,
 "nbformat_minor": 0
}
