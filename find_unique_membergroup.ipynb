{
 "cells": [
  {
   "cell_type": "code",
   "execution_count": null,
   "metadata": {
    "collapsed": true
   },
   "outputs": [],
   "source": [
    "def find_unique_membergroup(filename_xml):\n",
    "    '''This fnx will loop through the root from the xml document and return list of unique values for membergroup'''\n",
    "    import xml.etree.ElementTree as xml\n",
    "    tree=xml.parse(filename_xml)\n",
    "    root=tree.getroot() \n",
    "    group=[]\n",
    "    groups=[]\n",
    "    for i in range(len(root)):\n",
    "        group.append(root[i].attrib)\n",
    "    for i in range(len(group)):\n",
    "        groups.append(group[i]['member_group'])\n",
    "    return list(set(groups))"
   ]
  }
 ],
 "metadata": {
  "kernelspec": {
   "display_name": "Python 3",
   "language": "python",
   "name": "python3"
  },
  "language_info": {
   "codemirror_mode": {
    "name": "ipython",
    "version": 3
   },
   "file_extension": ".py",
   "mimetype": "text/x-python",
   "name": "python",
   "nbconvert_exporter": "python",
   "pygments_lexer": "ipython3",
   "version": "3.4.3"
  }
 },
 "nbformat": 4,
 "nbformat_minor": 0
}
