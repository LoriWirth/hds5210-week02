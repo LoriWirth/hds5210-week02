{
 "cells": [
  {
   "cell_type": "code",
   "execution_count": null,
   "metadata": {
    "collapsed": false
   },
   "outputs": [],
   "source": [
    "# def calc_total_cost(config,fees,member_group,mail_retail,ingredient_cost):\n",
    "#     Cost=[]\n",
    "#     for i in range(len(config[member_group])):\n",
    "#         try:\n",
    "#             if config[member_group][i] not in 'ingredient_cost':\n",
    "#                 Cost.append(float(fees[member_group][mail_retail][config[member_group][i]]))\n",
    "#             else:\n",
    "#                 Cost.append(int(ingredient_cost))\n",
    "#             return round(sum(Cost),2)\n",
    "#         except Exception:\n",
    "#             return print('There is an error')"
   ]
  },
  {
   "cell_type": "code",
   "execution_count": 2,
   "metadata": {
    "collapsed": false
   },
   "outputs": [],
   "source": [
    "def calc_total_cost(config,fees,member_group,mail_retail,ingredient_cost):\n",
    "    Cost=[]\n",
    "    for fee in range(len(config[member_group])):\n",
    "        if config[member_group][fee] in 'ingredient_cost':\n",
    "            Cost.append(float(ingredient_cost))\n",
    "        else:\n",
    "            num=(float(fees[member_group][mail_retail][config[member_group][fee]]))\n",
    "            Cost.append(num)\n",
    "    return round(sum(Cost),2)"
   ]
  }
 ],
 "metadata": {
  "kernelspec": {
   "display_name": "Python 3",
   "language": "python",
   "name": "python3"
  },
  "language_info": {
   "codemirror_mode": {
    "name": "ipython",
    "version": 3
   },
   "file_extension": ".py",
   "mimetype": "text/x-python",
   "name": "python",
   "nbconvert_exporter": "python",
   "pygments_lexer": "ipython3",
   "version": "3.4.3"
  }
 },
 "nbformat": 4,
 "nbformat_minor": 0
}
