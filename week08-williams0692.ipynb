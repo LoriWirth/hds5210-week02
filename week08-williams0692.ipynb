{
 "cells": [
  {
   "cell_type": "markdown",
   "metadata": {},
   "source": [
    "# Part 1 - Count up dictionary values \n",
    "\n",
    "Take the dictionary below and return a new dictionary that contains each of the values and a count of how many times they appear as values in the dictionary.\n",
    "patient_ages = {\n",
    "    \"E143291\": 19,\n",
    "    \"E872839\": 32,\n",
    "    \"E878198\": 19,\n",
    "    \"E871111\": 21,\n",
    "    \"E143299\": 3,\n",
    "    \"E123332\": 21,\n",
    "    \"E989891\":19\n",
    "} \n",
    "\n",
    "The expected output here would be:\n",
    "{3: 1, 19: 3, 21: 2, 32: 1}\n"
   ]
  },
  {
   "cell_type": "code",
   "execution_count": 200,
   "metadata": {
    "collapsed": true
   },
   "outputs": [],
   "source": [
    "patient_ages = {\n",
    "    \"E143291\": 19,\n",
    "    \"E872839\": 32,\n",
    "    \"E878198\": 19,\n",
    "    \"E871111\": 21,\n",
    "    \"E143299\": 3,\n",
    "    \"E123332\": 21,\n",
    "    \"E989891\":19\n",
    "} "
   ]
  },
  {
   "cell_type": "code",
   "execution_count": 208,
   "metadata": {
    "collapsed": false,
    "scrolled": false
   },
   "outputs": [
    {
     "name": "stdout",
     "output_type": "stream",
     "text": [
      "{32: 1, 19: 3, 3: 1, 21: 2}\n"
     ]
    }
   ],
   "source": [
    "vals=[]\n",
    "key=[]\n",
    "age_patients = {}\n",
    "for pat_id, age in patient_ages.items():\n",
    "    #print(pat_id, age)\n",
    "\n",
    "    if age not in age_patients:\n",
    "        age_patients[age] = []\n",
    "    \n",
    "    age_patients[age].append(pat_id)\n",
    "    #print(\"Age {:d} has {:d} patients\".format(age, len(age_patients[age])))\n",
    "\n",
    "#age_patients\n",
    "\n",
    "for age, pat_list in age_patients.items():\n",
    "    #print(\"-- Age {:d} has {:d} patients\".format(age, len(pat_list)))\n",
    "    vals1=len(pat_list)\n",
    "    vals.append(vals1)\n",
    "    age1=age\n",
    "    key.append(age1)\n",
    "print(dict(zip(key,vals)))\n",
    "    \n",
    "    \n"
   ]
  },
  {
   "cell_type": "markdown",
   "metadata": {},
   "source": [
    "# Part 2 - Count up how many unique values are in the values \n",
    "\n",
    "Try to solve this one in one line if you can...\n",
    "\n",
    "Take the same dictionary as above and count the number of unique ages that appear in the dictionary values\n",
    "The expected output here would be:\n",
    "4\n"
   ]
  },
  {
   "cell_type": "code",
   "execution_count": 153,
   "metadata": {
    "collapsed": true
   },
   "outputs": [],
   "source": [
    "patient_ages = {\n",
    "    \"E143291\": 19,\n",
    "    \"E872839\": 32,\n",
    "    \"E878198\": 19,\n",
    "    \"E871111\": 21,\n",
    "    \"E143299\": 3,\n",
    "    \"E123332\": 21,\n",
    "    \"E989891\":19\n",
    "} "
   ]
  },
  {
   "cell_type": "code",
   "execution_count": 162,
   "metadata": {
    "collapsed": false
   },
   "outputs": [
    {
     "name": "stdout",
     "output_type": "stream",
     "text": [
      "4\n"
     ]
    }
   ],
   "source": [
    "age=[]\n",
    "one=list(patient_ages)\n",
    "for i in range(len(one)):\n",
    "    age1=patient_ages[one[i]]\n",
    "    age.append(age1)\n",
    "print(len(set(age)))"
   ]
  },
  {
   "cell_type": "markdown",
   "metadata": {},
   "source": [
    "# Part 3 - Convert a list to a dictionary \n",
    "\n",
    "Take the list of lists below and convert it into a dictionary where the entries in the dictionary are keyed off of whatever values are in column 0, and the dictionary values are the list of all the values that appear with that key from the input list. See the example below.\n",
    "test = [['Boal', 'Paul'],\n",
    "        ['Duck', 'Donald'],\n",
    "        ['Duck', 'Daisy'],\n",
    "        ['Boal', 'Ada'],\n",
    "        ['Boal', 'Teddy'],\n",
    "        ['Westhus', 'Eric']]\n",
    "Expected output is:\n",
    "{\n",
    " 'Boal':    ['Paul', 'Ada', 'Teddy'],\n",
    " 'Duck':    ['Donald', 'Daisy'],\n",
    " 'Westhus': ['Eric']\n",
    "}\n"
   ]
  },
  {
   "cell_type": "code",
   "execution_count": 291,
   "metadata": {
    "collapsed": false
   },
   "outputs": [],
   "source": [
    "test = [['Boal', 'Paul'],\n",
    "        ['Duck', 'Donald'],\n",
    "        ['Duck', 'Daisy'],\n",
    "        ['Boal', 'Ada'],\n",
    "        ['Boal', 'Teddy'],\n",
    "        ['Westhus', 'Eric']]"
   ]
  },
  {
   "cell_type": "code",
   "execution_count": 292,
   "metadata": {
    "collapsed": false
   },
   "outputs": [],
   "source": [
    "key=[]\n",
    "vals=[]\n",
    "for i in range(len(test)):\n",
    "    key1=test[i][0]\n",
    "    key.append(key1)\n",
    "\n",
    "for i in range(len(test)):\n",
    "    val1=test[i][1:]\n",
    "    vals+=val1\n"
   ]
  },
  {
   "cell_type": "code",
   "execution_count": 293,
   "metadata": {
    "collapsed": false,
    "scrolled": true
   },
   "outputs": [
    {
     "data": {
      "text/plain": [
       "['Paul', 'Donald', 'Daisy', 'Ada', 'Teddy', 'Eric']"
      ]
     },
     "execution_count": 293,
     "metadata": {},
     "output_type": "execute_result"
    }
   ],
   "source": [
    "vals"
   ]
  },
  {
   "cell_type": "code",
   "execution_count": 276,
   "metadata": {
    "collapsed": false
   },
   "outputs": [
    {
     "data": {
      "text/plain": [
       "['Boal', 'Duck', 'Westhus']"
      ]
     },
     "execution_count": 276,
     "metadata": {},
     "output_type": "execute_result"
    }
   ],
   "source": [
    "k=set(key)\n",
    "f=list(k)\n",
    "key=f\n",
    "key"
   ]
  },
  {
   "cell_type": "code",
   "execution_count": 286,
   "metadata": {
    "collapsed": false,
    "scrolled": true
   },
   "outputs": [
    {
     "data": {
      "text/plain": [
       "'Boal'"
      ]
     },
     "execution_count": 286,
     "metadata": {},
     "output_type": "execute_result"
    }
   ],
   "source": [
    "key[0]"
   ]
  },
  {
   "cell_type": "code",
   "execution_count": 294,
   "metadata": {
    "collapsed": false
   },
   "outputs": [
    {
     "data": {
      "text/plain": [
       "['Boal', 'Paul']"
      ]
     },
     "execution_count": 294,
     "metadata": {},
     "output_type": "execute_result"
    }
   ],
   "source": [
    "test[0]"
   ]
  },
  {
   "cell_type": "code",
   "execution_count": 347,
   "metadata": {
    "collapsed": false
   },
   "outputs": [],
   "source": [
    "d=()\n",
    "for j in range(len(key)):\n",
    "    for i in range(len(test)):\n",
    "        if key[j]==test[i][0]:\n",
    "           d1=(key[j],test[i][1:])\n",
    "           d+=d1\n",
    "#print(d[3])\n",
    "            "
   ]
  },
  {
   "cell_type": "code",
   "execution_count": 352,
   "metadata": {
    "collapsed": false
   },
   "outputs": [],
   "source": [
    "data = [dict(zip(key, vals))]"
   ]
  },
  {
   "cell_type": "code",
   "execution_count": 353,
   "metadata": {
    "collapsed": false
   },
   "outputs": [
    {
     "data": {
      "text/plain": [
       "[{'Boal': 'Teddy', 'Duck': 'Daisy', 'Westhus': 'Eric'}]"
      ]
     },
     "execution_count": 353,
     "metadata": {},
     "output_type": "execute_result"
    }
   ],
   "source": [
    "data"
   ]
  },
  {
   "cell_type": "markdown",
   "metadata": {},
   "source": [
    "# Part 4 - Join using a dictionary \n",
    "\n",
    "Not joining again!!! Don't worry, it's easier to do with a dictionary.\n",
    "\n",
    "We have a list of patients, diagnosis, and length of stay. We also have a dictionary that contains diagnosis and average length of stay. Produce an output list that lists the patient and an indicator if the patient's stay was 'too long', 'too short', 'just right'\n",
    "avg_los = {\n",
    "    \"Hemolytic jaundice and perinatal jaundice\" : 2,\n",
    "    \"Medical examination/evaluation\" : 3.2,\n",
    "    \"Liveborn\" : 3.2,\n",
    "    \"Trauma to perineum and vulva\" : 2.1,\n",
    "    \"Normal pregnancy and/or delivery\" : 2,\n",
    "    \"Umbilical cord complication\" : 2.1,\n",
    "    \"Forceps delivery\" : 2.2,\n",
    "    \"Administrative/social admission\" : 4.2,\n",
    "    \"Prolonged pregnancy\" : 2.4,\n",
    "    \"Other complications of pregnancy\" : 2.5\n",
    "}\n",
    "\n",
    "patients = [\n",
    "    ['Boal', 'Medical examination/evaluation', 1.1],\n",
    "    ['Boal', 'Other complications of pregnancy', 3.3],\n",
    "    ['Jones', 'Liveborn', 3.2],\n",
    "    ['Ashbury', 'Forceps delivery', 2.0]\n",
    "]\n",
    "The output we expect to get is:\n",
    "[['Boal', 'too short'],\n",
    " ['Boal', 'too long'],\n",
    " ['Jones', 'just right'],\n",
    " ['Ashbury', 'too short']]\n"
   ]
  },
  {
   "cell_type": "code",
   "execution_count": 354,
   "metadata": {
    "collapsed": true
   },
   "outputs": [],
   "source": [
    "avg_los = {\n",
    "    \"Hemolytic jaundice and perinatal jaundice\" : 2,\n",
    "    \"Medical examination/evaluation\" : 3.2,\n",
    "    \"Liveborn\" : 3.2,\n",
    "    \"Trauma to perineum and vulva\" : 2.1,\n",
    "    \"Normal pregnancy and/or delivery\" : 2,\n",
    "    \"Umbilical cord complication\" : 2.1,\n",
    "    \"Forceps delivery\" : 2.2,\n",
    "    \"Administrative/social admission\" : 4.2,\n",
    "    \"Prolonged pregnancy\" : 2.4,\n",
    "    \"Other complications of pregnancy\" : 2.5\n",
    "}\n",
    "\n",
    "patients = [\n",
    "    ['Boal', 'Medical examination/evaluation', 1.1],\n",
    "    ['Boal', 'Other complications of pregnancy', 3.3],\n",
    "    ['Jones', 'Liveborn', 3.2],\n",
    "    ['Ashbury', 'Forceps delivery', 2.0]\n",
    "]"
   ]
  },
  {
   "cell_type": "code",
   "execution_count": 362,
   "metadata": {
    "collapsed": false
   },
   "outputs": [
    {
     "data": {
      "text/plain": [
       "2"
      ]
     },
     "execution_count": 362,
     "metadata": {},
     "output_type": "execute_result"
    }
   ],
   "source": [
    "avg_los=dict(avg_los)"
   ]
  },
  {
   "cell_type": "code",
   "execution_count": 423,
   "metadata": {
    "collapsed": false
   },
   "outputs": [],
   "source": [
    "keys=[]\n",
    "vals=[]\n",
    "for i in range(len(patients)):\n",
    "    if patients[i][2] < avg_los[patients[i][1]]:\n",
    "        val=('too short')\n",
    "        vals.append(val)\n",
    "    elif patients[i][2] > avg_los[patients[i][1]]:\n",
    "        val=('too long')\n",
    "        vals.append(val)\n",
    "    elif patients[i][2] == avg_los[patients[i][1]]:\n",
    "        val=('just right')\n",
    "        vals.append(val)\n",
    "for i in range(len(patients)):\n",
    "    n=patients[i][0]\n",
    "    keys.append(n)\n",
    "    "
   ]
  },
  {
   "cell_type": "code",
   "execution_count": 438,
   "metadata": {
    "collapsed": false
   },
   "outputs": [],
   "source": [
    "d={}\n",
    "for index in range(len(keys)):\n",
    "    d[keys[index]]=[vals[index]]\n",
    "    "
   ]
  },
  {
   "cell_type": "code",
   "execution_count": 439,
   "metadata": {
    "collapsed": false
   },
   "outputs": [
    {
     "data": {
      "text/plain": [
       "{'Ashbury': ['too short'], 'Boal': ['too long'], 'Jones': ['just right']}"
      ]
     },
     "execution_count": 439,
     "metadata": {},
     "output_type": "execute_result"
    }
   ],
   "source": [
    "d"
   ]
  },
  {
   "cell_type": "markdown",
   "metadata": {},
   "source": [
    "# Submitting"
   ]
  },
  {
   "cell_type": "code",
   "execution_count": 1,
   "metadata": {
    "collapsed": false
   },
   "outputs": [
    {
     "name": "stdout",
     "output_type": "stream",
     "text": [
      "[master bbb0ef6] Adding HW8\n",
      " 2 files changed, 578 insertions(+), 3 deletions(-)\n",
      " create mode 100644 week08-williams0692.ipynb\n"
     ]
    },
    {
     "name": "stderr",
     "output_type": "stream",
     "text": [
      "warning: push.default is unset; its implicit value has changed in\n",
      "Git 2.0 from 'matching' to 'simple'. To squelch this message\n",
      "and maintain the traditional behavior, use:\n",
      "\n",
      "  git config --global push.default matching\n",
      "\n",
      "To squelch this message and adopt the new behavior now, use:\n",
      "\n",
      "  git config --global push.default simple\n",
      "\n",
      "When push.default is set to 'matching', git will push local branches\n",
      "to the remote branches that already exist with the same name.\n",
      "\n",
      "Since Git 2.0, Git defaults to the more conservative 'simple'\n",
      "behavior, which only pushes the current branch to the corresponding\n",
      "remote branch that 'git pull' uses to update the current branch.\n",
      "\n",
      "See 'git help config' and search for 'push.default' for further information.\n",
      "(the 'simple' mode was introduced in Git 1.7.11. Use the similar mode\n",
      "'current' instead of 'simple' if you sometimes use older versions of Git)\n",
      "\n",
      "To git@github.com:williams0692/hds5210-week02.git\n",
      "   7543600..bbb0ef6  master -> master\n"
     ]
    }
   ],
   "source": [
    "%%bash\n",
    "git add week08-williams0692.ipynb\n",
    "git add avg.txt\n",
    "git commit -a -m \"Adding HW8\"\n",
    "git push"
   ]
  }
 ],
 "metadata": {
  "kernelspec": {
   "display_name": "Python 3",
   "language": "python",
   "name": "python3"
  },
  "language_info": {
   "codemirror_mode": {
    "name": "ipython",
    "version": 3
   },
   "file_extension": ".py",
   "mimetype": "text/x-python",
   "name": "python",
   "nbconvert_exporter": "python",
   "pygments_lexer": "ipython3",
   "version": "3.4.3"
  }
 },
 "nbformat": 4,
 "nbformat_minor": 0
}
