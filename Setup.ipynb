{
 "cells": [
  {
   "cell_type": "markdown",
   "metadata": {
    "collapsed": true
   },
   "source": [
    "# Step 1\n",
    "#Write a function called setup to Read /final/config_sample.json and return a dictionary \n",
    "#that has key/value pairs,member group as the key and a list of cost field names as the values\n"
   ]
  },
  {
   "cell_type": "code",
   "execution_count": 7,
   "metadata": {
    "collapsed": false
   },
   "outputs": [],
   "source": [
    "def setup(filename):\n",
    "    \"\"\"i misread the directions and thought that I needed to output a dict with ID: cost;\n",
    "        in my total_calc_cost\"\"\"\n",
    "    import json\n",
    "    json_data=open(filename).read()\n",
    "    data=json.loads(json_data)\n",
    "    datalist=list(data.items())\n",
    "\n",
    "    for i in range(len(datalist)):\n",
    "        for i in datalist[i][1:]:\n",
    "            if type(i)== dict:\n",
    "                return i"
   ]
  },
  {
   "cell_type": "code",
   "execution_count": 8,
   "metadata": {
    "collapsed": true
   },
   "outputs": [],
   "source": [
    "def setup_two(filename):\n",
    "    import json\n",
    "    json_data=open(filename).read()\n",
    "    data=json.loads(json_data)\n",
    "    return data"
   ]
  }
 ],
 "metadata": {
  "kernelspec": {
   "display_name": "Python 3",
   "language": "python",
   "name": "python3"
  },
  "language_info": {
   "codemirror_mode": {
    "name": "ipython",
    "version": 3
   },
   "file_extension": ".py",
   "mimetype": "text/x-python",
   "name": "python",
   "nbconvert_exporter": "python",
   "pygments_lexer": "ipython3",
   "version": "3.4.3"
  }
 },
 "nbformat": 4,
 "nbformat_minor": 0
}
