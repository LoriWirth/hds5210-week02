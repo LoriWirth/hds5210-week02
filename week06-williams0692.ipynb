{
 "cells": [
  {
   "cell_type": "markdown",
   "metadata": {},
   "source": [
    "# 1 - Creating a list from a string \n",
    "'''\n",
    "Take the single string exactly like this \"Amoxicillin, Digoxin, Metoprolol Tartrate, Motrin\" and create an array that has one item each, with the names in all lowercase and with no extra spaces at the beginning or end.\n",
    "In [1]:\n",
    "drugs = \"Amoxicillin, Digoxin, Metoprolol Tartrate, Motrin\"\n",
    "\n",
    "Desired output:\n",
    "['amoxicillin', 'dignoxin', 'metroprolol tartrate', 'motrin']\n",
    "'''"
   ]
  },
  {
   "cell_type": "code",
   "execution_count": 30,
   "metadata": {
    "collapsed": false
   },
   "outputs": [
    {
     "data": {
      "text/plain": [
       "['amoxicillin', ' digoxin', ' metoprolol tartrate', ' motrin']"
      ]
     },
     "execution_count": 30,
     "metadata": {},
     "output_type": "execute_result"
    }
   ],
   "source": [
    "drugs = \"Amoxicillin, Digoxin, Metoprolol Tartrate, Motrin\"\n",
    "drugs.lower().split( \",\")"
   ]
  },
  {
   "cell_type": "markdown",
   "metadata": {
    "collapsed": true
   },
   "source": [
    "# from class\n",
    "d=drugs.split(\",\")\n",
    "for item in d:\n",
    "    item=d[item]\n",
    "    item.strip() #item doesnt know that it is a part of a list since it got \n",
    "                    #evaluated into a strong\n",
    "        #the only way to change d[0] is to say d[0]= something\n",
    "        #otherwise use range...then can write to d[i]=d[i].strip\n",
    "    "
   ]
  },
  {
   "cell_type": "markdown",
   "metadata": {},
   "source": [
    "# 2 - Filtering a list \n",
    "'''\n",
    "The appropriate limit for Digoxin is 12 mcg/kg. Starting with the list of dosages below, loop through and create a new list that contains on the dosages that are within the allowed amounts for a patient who weighs 50 kg.\n",
    "In [8]:\n",
    "allow = []\n",
    "available = [['Digoxin',170,'mgc'],\n",
    "             ['Digoxin',280,'mgc'],\n",
    "             ['Digoxin',500,'mgc'],\n",
    "             ['Digoxin',680,'mgc'],\n",
    "             ['Digoxin',1000,'mgc']]\n",
    "'''\n"
   ]
  },
  {
   "cell_type": "code",
   "execution_count": 18,
   "metadata": {
    "collapsed": true
   },
   "outputs": [],
   "source": [
    "available = [['Digoxin',170,'mgc'],\n",
    "             ['Digoxin',280,'mgc'],\n",
    "             ['Digoxin',500,'mgc'],\n",
    "             ['Digoxin',680,'mgc'],\n",
    "             ['Digoxin',1000,'mgc']]"
   ]
  },
  {
   "cell_type": "code",
   "execution_count": 27,
   "metadata": {
    "collapsed": false,
    "scrolled": false
   },
   "outputs": [],
   "source": [
    "d=[]\n",
    "for i in available[:5]:\n",
    "    if i[1]<=50*12:\n",
    "        #print(i)\n",
    "        d=i\n",
    "       \n",
    "    #Boo! for not being able to call i as the full output"
   ]
  },
  {
   "cell_type": "code",
   "execution_count": 22,
   "metadata": {
    "collapsed": false
   },
   "outputs": [
    {
     "data": {
      "text/plain": [
       "['Digoxin', 500, 'mgc']"
      ]
     },
     "execution_count": 22,
     "metadata": {},
     "output_type": "execute_result"
    }
   ],
   "source": [
    "d"
   ]
  },
  {
   "cell_type": "markdown",
   "metadata": {},
   "source": [
    "# 3 - While \n",
    "'''\n",
    "Starting with this list ['amoxicillin','dignoxin','metroprolol tartrate','motrin'],\n",
    "create a comma separated list that contains as many values as possible without being \n",
    "longer that 20 total characters in length.\n",
    "In [10]:\n",
    "druglist = ['amoxicillin','dignoxin','metroprolol tartrate','motrin']\n",
    "Desired output:\n",
    "'amoxicillin,dignoxin,'\n",
    "'''"
   ]
  },
  {
   "cell_type": "code",
   "execution_count": 107,
   "metadata": {
    "collapsed": false,
    "scrolled": true
   },
   "outputs": [],
   "source": [
    "druglist = ['amoxicillin','dignoxin','metroprolol tartrate','motrin']\n",
    "d=\",\".join(druglist)[:20]"
   ]
  },
  {
   "cell_type": "code",
   "execution_count": 108,
   "metadata": {
    "collapsed": false
   },
   "outputs": [
    {
     "data": {
      "text/plain": [
       "'amoxicillin,dignoxin'"
      ]
     },
     "execution_count": 108,
     "metadata": {},
     "output_type": "execute_result"
    }
   ],
   "source": [
    "d"
   ]
  },
  {
   "cell_type": "markdown",
   "metadata": {},
   "source": [
    "# 4 - Finding the right match \n",
    "'''\n",
    "Given the list of patients and their weights below, the list of available dosages, and the same limit of 12 mcg/kg, create a list of patients and the dosage they should receive.\n",
    "In [ ]:\n",
    "patients = [['Paul',80],['Eric',55],['Ada',22]]\n",
    "Desired output:\n",
    "[[['Paul',80],['Digoxin',680,'mcg']],\n",
    " [['Eric',55],['Digoxin',500,'mcg']],\n",
    " [['Ada',22],['Digoxin',170,'mcg']]]\n",
    " \n",
    " available = [['Digoxin',170,'mgc'],\n",
    "             ['Digoxin',280,'mgc'],\n",
    "             ['Digoxin',500,'mgc'],\n",
    "             ['Digoxin',680,'mgc'],\n",
    "             ['Digoxin',1000,'mgc']]\n",
    "'''"
   ]
  },
  {
   "cell_type": "code",
   "execution_count": 8,
   "metadata": {
    "collapsed": false
   },
   "outputs": [],
   "source": [
    "patients = [['Paul',80],['Eric',55],['Ada',22]]\n",
    "available = [['Digoxin',170,'mgc'],\n",
    "             ['Digoxin',280,'mgc'],\n",
    "             ['Digoxin',500,'mgc'],\n",
    "             ['Digoxin',680,'mgc'],\n",
    "             ['Digoxin',1000,'mgc']]"
   ]
  },
  {
   "cell_type": "code",
   "execution_count": 16,
   "metadata": {
    "collapsed": false,
    "scrolled": true
   },
   "outputs": [],
   "source": [
    "final=[]\n",
    "for i in range(len(patients)):\n",
    "    for j in range(len(available)):\n",
    "        a=(available[:5])[j][1]\n",
    "        b=(patients[:3])[i][1]\n",
    "        if a<=b*12:\n",
    "            l=[patients[i],available[j]]\n",
    "    final.append(l)\n",
    "            \n",
    "            ###Output list all allowable dosages per person...need to select the max dose possible per person...boo!"
   ]
  },
  {
   "cell_type": "code",
   "execution_count": 17,
   "metadata": {
    "collapsed": false
   },
   "outputs": [
    {
     "data": {
      "text/plain": [
       "[[['Paul', 80], ['Digoxin', 680, 'mgc']],\n",
       " [['Eric', 55], ['Digoxin', 500, 'mgc']],\n",
       " [['Ada', 22], ['Digoxin', 170, 'mgc']]]"
      ]
     },
     "execution_count": 17,
     "metadata": {},
     "output_type": "execute_result"
    }
   ],
   "source": [
    "final"
   ]
  },
  {
   "cell_type": "markdown",
   "metadata": {},
   "source": [
    "# Push"
   ]
  },
  {
   "cell_type": "code",
   "execution_count": 1,
   "metadata": {
    "collapsed": false
   },
   "outputs": [
    {
     "name": "stdout",
     "output_type": "stream",
     "text": [
      "[master 59ab7fe] Adding homework for week 6\n",
      " 2 files changed, 314 insertions(+), 30 deletions(-)\n",
      " create mode 100644 week06-williams0692.ipynb\n"
     ]
    },
    {
     "name": "stderr",
     "output_type": "stream",
     "text": [
      "warning: push.default is unset; its implicit value has changed in\n",
      "Git 2.0 from 'matching' to 'simple'. To squelch this message\n",
      "and maintain the traditional behavior, use:\n",
      "\n",
      "  git config --global push.default matching\n",
      "\n",
      "To squelch this message and adopt the new behavior now, use:\n",
      "\n",
      "  git config --global push.default simple\n",
      "\n",
      "When push.default is set to 'matching', git will push local branches\n",
      "to the remote branches that already exist with the same name.\n",
      "\n",
      "Since Git 2.0, Git defaults to the more conservative 'simple'\n",
      "behavior, which only pushes the current branch to the corresponding\n",
      "remote branch that 'git pull' uses to update the current branch.\n",
      "\n",
      "See 'git help config' and search for 'push.default' for further information.\n",
      "(the 'simple' mode was introduced in Git 1.7.11. Use the similar mode\n",
      "'current' instead of 'simple' if you sometimes use older versions of Git)\n",
      "\n",
      "To git@github.com:williams0692/hds5210-week02.git\n",
      "   8c0d7ad..59ab7fe  master -> master\n"
     ]
    }
   ],
   "source": [
    "%%bash\n",
    "cd ~/notebooks/hds5210-week02/\n",
    "git add week06-williams0692.ipynb\n",
    "git commit -a -m \"Adding homework for week 6\"\n",
    "git push"
   ]
  }
 ],
 "metadata": {
  "kernelspec": {
   "display_name": "Python 3",
   "language": "python",
   "name": "python3"
  },
  "language_info": {
   "codemirror_mode": {
    "name": "ipython",
    "version": 3
   },
   "file_extension": ".py",
   "mimetype": "text/x-python",
   "name": "python",
   "nbconvert_exporter": "python",
   "pygments_lexer": "ipython3",
   "version": "3.4.3"
  }
 },
 "nbformat": 4,
 "nbformat_minor": 0
}
