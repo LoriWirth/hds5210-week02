{
 "cells": [
  {
   "cell_type": "code",
   "execution_count": 2,
   "metadata": {
    "collapsed": true
   },
   "outputs": [],
   "source": [
    "def xml_to_dict(filename_xml):\n",
    "    \"\"\"This fnx turns xml document into list of dicts\"\"\"\n",
    "    import xml.etree.ElementTree as xml\n",
    "    tree=xml.parse(filename_xml)\n",
    "    root=tree.getroot()\n",
    "    y=[]\n",
    "    for i in range(len(root)):\n",
    "        y.append(root[i].attrib)\n",
    "        for children in root[i]:\n",
    "            y.append(children.tag)\n",
    "            y.append(children.text)\n",
    "    return y"
   ]
  }
 ],
 "metadata": {
  "kernelspec": {
   "display_name": "Python 3",
   "language": "python",
   "name": "python3"
  },
  "language_info": {
   "codemirror_mode": {
    "name": "ipython",
    "version": 3
   },
   "file_extension": ".py",
   "mimetype": "text/x-python",
   "name": "python",
   "nbconvert_exporter": "python",
   "pygments_lexer": "ipython3",
   "version": "3.4.3"
  }
 },
 "nbformat": 4,
 "nbformat_minor": 0
}
