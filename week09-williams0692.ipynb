{
 "cells": [
  {
   "cell_type": "markdown",
   "metadata": {
    "collapsed": true
   },
   "source": [
    "# 1 - JSON for hospital information \n",
    "\n",
    "Take the list of information below and create a JSON structure that describes the same concept: a list of health systems, the hospitals in that system, and the attributes associated with each hospital.\n",
    "System    Hospital    City        Beds\n",
    "BJC       BJH         St. Louis   1432\n",
    "BJC       MOBap       Creve Coeur 1107\n",
    "SSM       SLUH        St. Louis   965\n",
    "Mercy     Mercy STL   Creve Coeur 983\n"
   ]
  },
  {
   "cell_type": "code",
   "execution_count": 12,
   "metadata": {
    "collapsed": true
   },
   "outputs": [],
   "source": [
    "import json"
   ]
  },
  {
   "cell_type": "code",
   "execution_count": 63,
   "metadata": {
    "collapsed": false
   },
   "outputs": [],
   "source": [
    "hospitals=[\n",
    "    dict (System='BJC',Hospital='BJH', City='St.Louis',Beds=1432),\n",
    "    dict (System='BJC',Hospital='MOBap', City='Creve Coeur',Beds=1107),\n",
    "    dict (System='SSM',Hospital='SLUH', City='St.Louis',Beds=965),\n",
    "    dict (System='Mercy',Hospital='Mercy STL', City='Creve Coeur',Beds=983)\n",
    "]"
   ]
  },
  {
   "cell_type": "code",
   "execution_count": 28,
   "metadata": {
    "collapsed": false,
    "scrolled": true
   },
   "outputs": [
    {
     "name": "stdout",
     "output_type": "stream",
     "text": [
      "[{\"System\": \"BJC\", \"City\": \"St.Louis\", \"Beds\": 1432, \"Hospital\": \"BJH\"}, {\"System\": \"BJC\", \"City\": \"Creve Coeur\", \"Beds\": 1107, \"Hospital\": \"MOBap\"}, {\"System\": \"SSM\", \"City\": \"St.Louis\", \"Beds\": 965, \"Hospital\": \"SLUH\"}, {\"System\": \"Mercy\", \"City\": \"Creve Coeur\", \"Beds\": 983, \"Hospital\": \"Mercy STL\"}]\n"
     ]
    }
   ],
   "source": [
    "print(json.dumps(hospitals))"
   ]
  },
  {
   "cell_type": "code",
   "execution_count": 374,
   "metadata": {
    "collapsed": false,
    "scrolled": true
   },
   "outputs": [
    {
     "data": {
      "text/plain": [
       "'[\\n    {\\n        \"System\": \"BJC\",\\n        \"City\": \"St.Louis\",\\n        \"Beds\": 1432,\\n        \"Hospital\": \"BJH\"\\n    },\\n    {\\n        \"System\": \"BJC\",\\n        \"City\": \"Creve Coeur\",\\n        \"Beds\": 1107,\\n        \"Hospital\": \"MOBap\"\\n    },\\n    {\\n        \"System\": \"SSM\",\\n        \"City\": \"St.Louis\",\\n        \"Beds\": 965,\\n        \"Hospital\": \"SLUH\"\\n    },\\n    {\\n        \"System\": \"Mercy\",\\n        \"City\": \"Creve Coeur\",\\n        \"Beds\": 983,\\n        \"Hospital\": \"Mercy STL\"\\n    }\\n]'"
      ]
     },
     "execution_count": 374,
     "metadata": {},
     "output_type": "execute_result"
    }
   ],
   "source": [
    "#create json file\n",
    "json.dumps(hospitals, indent=4)"
   ]
  },
  {
   "cell_type": "code",
   "execution_count": 52,
   "metadata": {
    "collapsed": false
   },
   "outputs": [],
   "source": [
    "# open the file hospitals.json for writing then\n",
    "#save file hospital and output as hosp\n",
    "#note that this fnx called dump instead of dumps\n",
    "with open('hospitals.json','w') as hosp:\n",
    "    json.dump(hospitals,hosp,indent=4)"
   ]
  },
  {
   "cell_type": "code",
   "execution_count": 53,
   "metadata": {
    "collapsed": false
   },
   "outputs": [
    {
     "name": "stdout",
     "output_type": "stream",
     "text": [
      "[\n",
      "    {\n",
      "        \"System\": \"BJC\",\n",
      "        \"City\": \"St.Louis\",\n",
      "        \"Beds\": 1432,\n",
      "        \"Hospital\": \"BJH\"\n",
      "    },\n",
      "    {\n",
      "        \"System\": \"BJC\",\n",
      "        \"City\": \"Creve Coeur\",\n",
      "        \"Beds\": 1107,\n",
      "        \"Hospital\": \"MOBap\"\n",
      "    },\n",
      "    {\n",
      "        \"System\": \"SSM\",\n",
      "        \"City\": \"St.Louis\",\n",
      "        \"Beds\": 965,\n",
      "        \"Hospital\": \"SLUH\"\n",
      "    },\n",
      "    {\n",
      "        \"System\": \"Mercy\",\n",
      "        \"City\": \"Creve Coeur\",\n",
      "        \"Beds\": 983,\n",
      "        \"Hospital\": \"Mercy STL\"\n",
      "    }\n",
      "]"
     ]
    }
   ],
   "source": [
    "%%bash\n",
    "cat hospitals.json"
   ]
  },
  {
   "cell_type": "code",
   "execution_count": 340,
   "metadata": {
    "collapsed": false,
    "scrolled": true
   },
   "outputs": [
    {
     "data": {
      "text/plain": [
       "[{'Beds': 1432, 'City': 'St.Louis', 'Hospital': 'BJH', 'System': 'BJC'},\n",
       " {'Beds': 1107, 'City': 'Creve Coeur', 'Hospital': 'MOBap', 'System': 'BJC'},\n",
       " {'Beds': 965, 'City': 'St.Louis', 'Hospital': 'SLUH', 'System': 'SSM'},\n",
       " {'Beds': 983,\n",
       "  'City': 'Creve Coeur',\n",
       "  'Hospital': 'Mercy STL',\n",
       "  'System': 'Mercy'}]"
      ]
     },
     "execution_count": 340,
     "metadata": {},
     "output_type": "execute_result"
    }
   ],
   "source": [
    "with open('hospitals.json') as hosp:\n",
    "    d = json.load(hosp)\n",
    "d"
   ]
  },
  {
   "cell_type": "markdown",
   "metadata": {},
   "source": [
    "# 2 - Total Beds per City \n",
    "\n",
    "Using your JSON structure as a starting point, compute the total number of beds per city and what percent of the total beds that represents. Deliver the results as a JSON structure.\n",
    "{ \n",
    "  'St. Louis': {\n",
    "    'Total Beds': 2397,\n",
    "    'Percent of Beds': 0.534\n",
    "  },\n",
    "  'Creve Coeur': {\n",
    "    'Total Beds': 2090,\n",
    "    'Percent of Beds': 0.466\n",
    "  }\n",
    "}\n"
   ]
  },
  {
   "cell_type": "code",
   "execution_count": 871,
   "metadata": {
    "collapsed": false
   },
   "outputs": [],
   "source": [
    "cities=[]\n",
    "values=[] #Total bed per city\n",
    "percentages=[]#percentage bed per city\n",
    "\n",
    "for i in range(len(d)):\n",
    "    cities1=(d[i]['City'])\n",
    "    cities.append(cities1)\n",
    "    cities=list(set(cities))\n",
    "    \n",
    "count= 0\n",
    "for i in range(len(d)):\n",
    "    tot= (d[i]['Beds'])\n",
    "    count+=tot\n",
    "         \n",
    "for city in cities:\n",
    "    sumbed=0\n",
    "    for index in range(len(d)):\n",
    "        if d[index]['City']==city:\n",
    "            total= (d[index]['Beds'])\n",
    "            sumbed+=total\n",
    "        else:\n",
    "            continue\n",
    "    values.append(sumbed)\n",
    "    percentages.append(sumbed/count)\n",
    "merged=dict(zip(cities, values))\n",
    "merged1=dict(zip(cities, percentages))\n",
    "\n",
    "output=[]\n",
    "for f in range(len(d)):\n",
    "    d[f]['Total beds']=merged[d[f]['City']]\n",
    "    d[f]['Percent of Beds']=merged1[d[f]['City']]\n",
    "    output.append(d[f])\n",
    "\n",
    "out=json.dumps(output, indent=4)  \n"
   ]
  },
  {
   "cell_type": "code",
   "execution_count": 877,
   "metadata": {
    "collapsed": false
   },
   "outputs": [],
   "source": [
    "output=json.loads(out)"
   ]
  },
  {
   "cell_type": "code",
   "execution_count": 980,
   "metadata": {
    "collapsed": false,
    "scrolled": true
   },
   "outputs": [],
   "source": [
    "keys=[]\n",
    "values=[]\n",
    "d={}\n",
    "\n",
    "for i in range(len(output)):\n",
    "    for city in range(len(cities)):\n",
    "        values.append(output[city].get('Total beds'))\n",
    "        values.append((round(output[city].get('Percent of Beds'),3)))\n",
    "    break\n",
    "    \n",
    "one=list(output[0].keys())\n",
    "keys.append(one[5])\n",
    "keys.append(one[1])\n",
    "\n",
    "new1=dict(zip(keys,values[0:2]))\n",
    "new2=dict(zip(keys,values[2:]))\n",
    "both=[new1,new2]\n",
    "final=dict(zip(cities,both))\n"
   ]
  },
  {
   "cell_type": "code",
   "execution_count": 981,
   "metadata": {
    "collapsed": false
   },
   "outputs": [
    {
     "data": {
      "text/plain": [
       "{'Creve Coeur': {'Percent of Beds': 0.466, 'Total beds': 2090},\n",
       " 'St.Louis': {'Percent of Beds': 0.534, 'Total beds': 2397}}"
      ]
     },
     "execution_count": 981,
     "metadata": {},
     "output_type": "execute_result"
    }
   ],
   "source": [
    "final"
   ]
  },
  {
   "cell_type": "markdown",
   "metadata": {},
   "source": [
    "# 3 - Drug XML \n",
    "\n",
    "Create an XML structure that describes a set of drugs and the possible dosages they might have based on the table below.\n",
    "\n",
    "Create an element named <drug> for each drug entry.\n",
    "\n",
    "Make the name, dosage, units, and cost attributes of each drug. Note that the cost is the cost per pill rather than the cost mg.\n",
    "\n",
    "Make the count the text for that drug element.\n",
    "Name     Dosage    Units   Cost   Count\n",
    "Asprin   100       mg      0.10   320\n",
    "Asprin   200       mg      0.15   211\n",
    "Digoxin  10        mL      1.22   19\n",
    "Digoxin  20        mL      2.01   27\n"
   ]
  },
  {
   "cell_type": "code",
   "execution_count": 427,
   "metadata": {
    "collapsed": true
   },
   "outputs": [],
   "source": [
    "import xml.etree.ElementTree as xml"
   ]
  },
  {
   "cell_type": "code",
   "execution_count": 692,
   "metadata": {
    "collapsed": true
   },
   "outputs": [],
   "source": [
    "drugs= \"\"\"<?xml version=\"1.0\"?>\n",
    "<data>\n",
    "    <drug name=\"Asprin\" Dosage=\"100\" Units=\"mg\" Cost=\"0.10\" Count=\"320\">\n",
    "        <drug>\"Asprin\"</drug>\n",
    "    </drug>\n",
    "\n",
    "    <drug name=\"Asprin\" Dosage=\"200\" Units=\"mg\" Cost=\"0.15\" Count=\"211\">\n",
    "        <drug>\"Asprin\"</drug>\n",
    "    </drug>\n",
    "\n",
    "    <drug name=\"Digoxin\" Dosage=\"10\" Units=\"mL\" Cost=\"1.22\" Count=\"19\">\n",
    "        <drug>\"Digoxin\"</drug>\n",
    "    </drug>\n",
    "\n",
    "    <drug name=\"Digoxin\" Dosage=\"20\" Units=\"mL\" Cost=\"2.01\" Count=\"27\">\n",
    "        <drug>\"Digoxin\"</drug>\n",
    "    </drug>\n",
    "\n",
    "</data>\n",
    "\"\"\""
   ]
  },
  {
   "cell_type": "code",
   "execution_count": 693,
   "metadata": {
    "collapsed": false
   },
   "outputs": [],
   "source": [
    "root=xml.fromstring(drugs)"
   ]
  },
  {
   "cell_type": "code",
   "execution_count": 650,
   "metadata": {
    "collapsed": false
   },
   "outputs": [
    {
     "data": {
      "text/plain": [
       "'data'"
      ]
     },
     "execution_count": 650,
     "metadata": {},
     "output_type": "execute_result"
    }
   ],
   "source": [
    "root.tag"
   ]
  },
  {
   "cell_type": "code",
   "execution_count": 656,
   "metadata": {
    "collapsed": false
   },
   "outputs": [
    {
     "data": {
      "text/plain": [
       "{}"
      ]
     },
     "execution_count": 656,
     "metadata": {},
     "output_type": "execute_result"
    }
   ],
   "source": [
    "root.attrib"
   ]
  },
  {
   "cell_type": "code",
   "execution_count": 682,
   "metadata": {
    "collapsed": false,
    "scrolled": false
   },
   "outputs": [
    {
     "name": "stdout",
     "output_type": "stream",
     "text": [
      "drug {'Dosage': '100', 'Count': '320', 'Cost': '0.10', 'Units': 'mg', 'name': 'Asprin'}\n",
      "drug {'Dosage': '200', 'Count': '211', 'Cost': '0.15', 'Units': 'mg', 'name': 'Asprin'}\n",
      "drug {'Dosage': '10', 'Count': '19', 'Cost': '1.22', 'Units': 'mL', 'name': 'Digoxin'}\n",
      "drug {'Dosage': '20', 'Count': '27', 'Cost': '2.01', 'Units': 'mL', 'name': 'Digoxin'}\n"
     ]
    }
   ],
   "source": [
    "drug=[]\n",
    "for child in root:\n",
    "    drug.append(child.attrib)\n",
    "    print(child.tag, child.attrib)"
   ]
  },
  {
   "cell_type": "code",
   "execution_count": 686,
   "metadata": {
    "collapsed": false
   },
   "outputs": [
    {
     "data": {
      "text/plain": [
       "[{'Cost': '0.10',\n",
       "  'Count': '320',\n",
       "  'Dosage': '100',\n",
       "  'Units': 'mg',\n",
       "  'name': 'Asprin'},\n",
       " {'Cost': '0.15',\n",
       "  'Count': '211',\n",
       "  'Dosage': '200',\n",
       "  'Units': 'mg',\n",
       "  'name': 'Asprin'},\n",
       " {'Cost': '1.22',\n",
       "  'Count': '19',\n",
       "  'Dosage': '10',\n",
       "  'Units': 'mL',\n",
       "  'name': 'Digoxin'},\n",
       " {'Cost': '2.01',\n",
       "  'Count': '27',\n",
       "  'Dosage': '20',\n",
       "  'Units': 'mL',\n",
       "  'name': 'Digoxin'}]"
      ]
     },
     "execution_count": 686,
     "metadata": {},
     "output_type": "execute_result"
    }
   ],
   "source": [
    "drug"
   ]
  },
  {
   "cell_type": "markdown",
   "metadata": {},
   "source": [
    "# 4 - Compute average cost per unit \n",
    "\n",
    "Read in your XML above and compute the total amount spend on each drug. Store the output in dictionary: { Asprin: 63.65, Digoxin: 77.45 }\n"
   ]
  },
  {
   "cell_type": "code",
   "execution_count": 830,
   "metadata": {
    "collapsed": false
   },
   "outputs": [],
   "source": [
    "output={}\n",
    "keylist=[]\n",
    "valuelist=[]\n",
    "drug=[]\n",
    "for i in range(len(root)):\n",
    "    drug1=root[i][0].text\n",
    "    drug.append(drug1)\n",
    "    drug=list(set(drug))\n",
    "    \n",
    "for i in range(len(drug)):\n",
    "    totalcost=0\n",
    "    for child in root:\n",
    "        if str(child.get('name'))==(drug[i]).strip('\"'):\n",
    "            cost=(float(child.get('Cost')) * float(child.get('Count')) )\n",
    "            totalcost+=cost\n",
    "        else:\n",
    "            continue\n",
    "    keylist.append(round(totalcost,2))\n",
    "    valuelist.append((drug[i]).strip('\"'))\n",
    "output=dict(zip(valuelist,keylist))\n",
    "#I know that I name them backward :-p\n",
    "\n",
    "\n",
    "    "
   ]
  },
  {
   "cell_type": "code",
   "execution_count": 831,
   "metadata": {
    "collapsed": false
   },
   "outputs": [
    {
     "data": {
      "text/plain": [
       "{'Asprin': 63.65, 'Digoxin': 77.45}"
      ]
     },
     "execution_count": 831,
     "metadata": {},
     "output_type": "execute_result"
    }
   ],
   "source": [
    "output"
   ]
  },
  {
   "cell_type": "code",
   "execution_count": 983,
   "metadata": {
    "collapsed": false
   },
   "outputs": [
    {
     "name": "stdout",
     "output_type": "stream",
     "text": [
      "[master 8770bde] Adding homework for week 9\n",
      " 2 files changed, 643 insertions(+), 3 deletions(-)\n",
      " create mode 100644 week09-williams0692.ipynb\n"
     ]
    },
    {
     "name": "stderr",
     "output_type": "stream",
     "text": [
      "warning: push.default is unset; its implicit value has changed in\n",
      "Git 2.0 from 'matching' to 'simple'. To squelch this message\n",
      "and maintain the traditional behavior, use:\n",
      "\n",
      "  git config --global push.default matching\n",
      "\n",
      "To squelch this message and adopt the new behavior now, use:\n",
      "\n",
      "  git config --global push.default simple\n",
      "\n",
      "When push.default is set to 'matching', git will push local branches\n",
      "to the remote branches that already exist with the same name.\n",
      "\n",
      "Since Git 2.0, Git defaults to the more conservative 'simple'\n",
      "behavior, which only pushes the current branch to the corresponding\n",
      "remote branch that 'git pull' uses to update the current branch.\n",
      "\n",
      "See 'git help config' and search for 'push.default' for further information.\n",
      "(the 'simple' mode was introduced in Git 1.7.11. Use the similar mode\n",
      "'current' instead of 'simple' if you sometimes use older versions of Git)\n",
      "\n",
      "To git@github.com:williams0692/hds5210-week02.git\n",
      "   bbb0ef6..8770bde  master -> master\n"
     ]
    }
   ],
   "source": [
    "%%bash\n",
    "cd ~/notebooks/hds5210-week02/\n",
    "git add week09-williams0692.ipynb\n",
    "git commit -a -m \"Adding homework for week 9\"\n",
    "git push"
   ]
  }
 ],
 "metadata": {
  "kernelspec": {
   "display_name": "Python 3",
   "language": "python",
   "name": "python3"
  },
  "language_info": {
   "codemirror_mode": {
    "name": "ipython",
    "version": 3
   },
   "file_extension": ".py",
   "mimetype": "text/x-python",
   "name": "python",
   "nbconvert_exporter": "python",
   "pygments_lexer": "ipython3",
   "version": "3.4.3"
  }
 },
 "nbformat": 4,
 "nbformat_minor": 0
}
