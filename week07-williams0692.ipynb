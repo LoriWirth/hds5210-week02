{
 "cells": [
  {
   "cell_type": "markdown",
   "metadata": {},
   "source": [
    "# Assignment 7 \n",
    "This week's assignment has two basic parts. First, we'll read a data \n",
    "file that we get from the CMS data website to do some simple calculations\n",
    "and write out the output. The input file for this homework comes from this\n",
    "URL, if you'd like to examine it online:\n",
    "\n",
    "https://data.cms.gov/Health/Monthly-Pre-Existing-Condition-Insurance-Plan-Enro/dpuq-z7nj\n",
    "\n",
    "The slides for this lecture can be found here: https://drive.google.com/open?id=1dvNoEO9C4iAlRXFnsu4Wlg57iv9VoCvw6l63Zvth2Uw\n"
   ]
  },
  {
   "cell_type": "code",
   "execution_count": null,
   "metadata": {
    "collapsed": false
   },
   "outputs": [],
   "source": [
    "%%bash\n",
    "head /week07/preexisting.csv \n",
    "wc   /week07/preexisting.csv\n"
   ]
  },
  {
   "cell_type": "markdown",
   "metadata": {},
   "source": [
    "# 1 - Count the lines \n",
    "Write a function that, given a file name as a string, will count the \n",
    "number of lines in the file. Use the function definition that's \n",
    "provided below, and then test your output with the next cell.\n",
    "def line_count(file):\n",
    "    \"\"\" (str) -> int\n",
    "    Counts the total number of lines in file and returns that number.\n",
    "    \"\"\"\n",
    "\n",
    "line_count('/week07/preexisting.csv')"
   ]
  },
  {
   "cell_type": "code",
   "execution_count": 51,
   "metadata": {
    "collapsed": false
   },
   "outputs": [],
   "source": [
    "def line_count(path):\n",
    "    import csv\n",
    "    with open(path) as filename: \n",
    "        filename = csv.reader(filename) \n",
    "        count=0\n",
    "        for row in filename:\n",
    "            count+=1\n",
    "            number=count\n",
    "        print(number)"
   ]
  },
  {
   "cell_type": "code",
   "execution_count": 52,
   "metadata": {
    "collapsed": false,
    "scrolled": false
   },
   "outputs": [
    {
     "name": "stdout",
     "output_type": "stream",
     "text": [
      "53\n"
     ]
    }
   ],
   "source": [
    "line_count(path='/week07/preexisting.csv')"
   ]
  },
  {
   "cell_type": "markdown",
   "metadata": {},
   "source": [
    "# 2 - Get a list of distinct values \n",
    "Write a function that, given a CSV file name as a string and a column\n",
    "number, will create an array with the distinct values in that particular\n",
    "column of the file. Assume the first column is 0 just like in Python lists. This file has a header and footer row. You can include those in your list of values.\n",
    "import csv\n",
    "\n",
    "def facet(file, column):\n",
    "    \"\"\" (str, int) -> array\n",
    "    Gets a list of distinct values from the specified column in the input file.\n",
    "    \"\"\"\n",
    "facet('/week07/preexisting.csv',1)\n",
    "This should return a list that includes all of the states, Washington DC, a header (State), and a footer (Total)."
   ]
  },
  {
   "cell_type": "code",
   "execution_count": 53,
   "metadata": {
    "collapsed": false
   },
   "outputs": [],
   "source": [
    "def facet(path,colnum):\n",
    "    import csv\n",
    "    with open(\"/week07/preexisting.csv\") as filename: \n",
    "        filename = csv.reader(filename) \n",
    "        for row in filename:\n",
    "            print(row[colnum])\n",
    "    "
   ]
  },
  {
   "cell_type": "code",
   "execution_count": 54,
   "metadata": {
    "collapsed": false
   },
   "outputs": [
    {
     "name": "stdout",
     "output_type": "stream",
     "text": [
      "State\n",
      "Alabama\n",
      "Alaska\n",
      "Arizona\n",
      "Arkansas\n",
      "California\n",
      "Colorado\n",
      "Connecticut\n",
      "Delaware\n",
      "District of Columbia\n",
      "Florida\n",
      "Georgia\n",
      "Hawaii\n",
      "Idaho\n",
      "Illinois\n",
      "Indiana\n",
      "Iowa\n",
      "Kansas\n",
      "Kentucky\n",
      "Louisiana\n",
      "Maine\n",
      "Maryland\n",
      "Massachusetts*\n",
      "Michigan\n",
      "Minnesota\n",
      "Mississippi\n",
      "Missouri\n",
      "Montana\n",
      "Nebraska\n",
      "Nevada\n",
      "New Hampshire\n",
      "New Jersey\n",
      "New Mexico\n",
      "New York\n",
      "North Carolina\n",
      "North Dakota\n",
      "Ohio\n",
      "Oklahoma\n",
      "Oregon\n",
      "Pennsylvania\n",
      "Rhode Island\n",
      "South Carolina\n",
      "South Dakota\n",
      "Tennessee\n",
      "Texas\n",
      "Utah\n",
      "Vermont*\n",
      "Virginia\n",
      "Washington\n",
      "West Virginia\n",
      "Wisconsin\n",
      "Wyoming\n",
      "Total\n"
     ]
    }
   ],
   "source": [
    "facet('/week07/preexisting.csv',0)"
   ]
  },
  {
   "cell_type": "markdown",
   "metadata": {},
   "source": [
    "# 3 - Average up the enrollees \n",
    "In columns 3 through the end, we have a series of numbers representing \n",
    "how many people were enrolled in these programs. Read through the input\n",
    "file in /week07/preexisting.csv and print out the state (column 0) and\n",
    "the average enrollees across those other columns. Ignore the header row,\n",
    "but do calculate the average for the footer row (Total).\n"
   ]
  },
  {
   "cell_type": "code",
   "execution_count": 60,
   "metadata": {
    "collapsed": false
   },
   "outputs": [],
   "source": [
    "averages=[]\n",
    "import csv\n",
    "with open(\"/week07/preexisting.csv\") as filename: \n",
    "    filename = csv.reader(filename)\n",
    "    for row in filename:\n",
    "        total=0\n",
    "        for row in filename:\n",
    "            for i in range(2,len(row)):\n",
    "                 if row[0] != \"State\":\n",
    "                    total+=int(row[i]) #this i goes across columns\n",
    "            avg=(row[0],(total/len(row)))\n",
    "            averages.append(avg)\n",
    "    "
   ]
  },
  {
   "cell_type": "code",
   "execution_count": 56,
   "metadata": {
    "collapsed": false
   },
   "outputs": [
    {
     "data": {
      "text/plain": [
       "[('Alabama', 479.7368421052632),\n",
       " ('Alaska', 517.6842105263158),\n",
       " ('Arizona', 3287.315789473684),\n",
       " ('Arkansas', 3827.315789473684),\n",
       " ('California', 12616.421052631578),\n",
       " ('Colorado', 13581.026315789473),\n",
       " ('Connecticut', 13921.052631578947),\n",
       " ('Delaware', 14110.763157894737),\n",
       " ('District of Columbia', 14164.631578947368),\n",
       " ('Florida', 20214.684210526317),\n",
       " ('Georgia', 22346.63157894737),\n",
       " ('Hawaii', 22446.842105263157),\n",
       " ('Idaho', 22888.57894736842),\n",
       " ('Illinois', 25122.28947368421),\n",
       " ('Indiana', 26218.86842105263),\n",
       " ('Iowa', 26475.026315789473),\n",
       " ('Kansas', 26809.21052631579),\n",
       " ('Kentucky', 27580.28947368421),\n",
       " ('Louisiana', 28454.605263157893),\n",
       " ('Maine', 28491.342105263157),\n",
       " ('Maryland', 29443.78947368421),\n",
       " ('Massachusetts*', 29454.86842105263),\n",
       " ('Michigan', 30699.42105263158),\n",
       " ('Minnesota', 31156.657894736843),\n",
       " ('Mississippi', 31386.184210526317),\n",
       " ('Missouri', 32688.447368421053),\n",
       " ('Montana', 32950.34210526316),\n",
       " ('Nebraska', 33199.39473684211),\n",
       " ('Nevada', 33990.78947368421),\n",
       " ('New Hampshire', 34383.81578947369),\n",
       " ('New Jersey', 35297.57894736842),\n",
       " ('New Mexico', 36266.0),\n",
       " ('New York', 39372.52631578947),\n",
       " ('North Carolina', 42667.60526315789),\n",
       " ('North Dakota', 42722.07894736842),\n",
       " ('Ohio', 45040.84210526316),\n",
       " ('Oklahoma', 45701.68421052631),\n",
       " ('Oregon', 46820.68421052631),\n",
       " ('Pennsylvania', 51626.81578947369),\n",
       " ('Rhode Island', 51754.97368421053),\n",
       " ('South Carolina', 53009.18421052631),\n",
       " ('South Dakota', 53149.71052631579),\n",
       " ('Tennessee', 54298.97368421053),\n",
       " ('Texas', 59827.28947368421),\n",
       " ('Utah', 60553.55263157895),\n",
       " ('Vermont*', 60554.42105263158),\n",
       " ('Virginia', 62203.23684210526),\n",
       " ('Washington', 62826.94736842105),\n",
       " ('West Virginia', 62937.23684210526),\n",
       " ('Wisconsin', 64340.0),\n",
       " ('Wyoming', 64522.68421052631),\n",
       " ('Total', 129044.81578947368)]"
      ]
     },
     "execution_count": 56,
     "metadata": {},
     "output_type": "execute_result"
    }
   ],
   "source": [
    "averages"
   ]
  },
  {
   "cell_type": "markdown",
   "metadata": {},
   "source": [
    "# 4 - Output \n",
    "Take your output from #3 above and write that to a simple tab-delimited \n",
    "text file named avg.txt. Include this file in your github repository\n",
    "and submit it with the assignment.\n"
   ]
  },
  {
   "cell_type": "code",
   "execution_count": 65,
   "metadata": {
    "collapsed": false
   },
   "outputs": [],
   "source": [
    "with open('avg.txt','w') as output:\n",
    "    for items in averages:\n",
    "        out = \"{:s}|{:s}\\n\".format(items[0],str(items[1]))\n",
    "        output.write(out)"
   ]
  },
  {
   "cell_type": "code",
   "execution_count": 66,
   "metadata": {
    "collapsed": false
   },
   "outputs": [
    {
     "name": "stdout",
     "output_type": "stream",
     "text": [
      "Alabama|479.7368421052632\n",
      "Alaska|517.6842105263158\n",
      "Arizona|3287.315789473684\n",
      "Arkansas|3827.315789473684\n",
      "California|12616.421052631578\n",
      "Colorado|13581.026315789473\n",
      "Connecticut|13921.052631578947\n",
      "Delaware|14110.763157894737\n",
      "District of Columbia|14164.631578947368\n",
      "Florida|20214.684210526317\n",
      "Georgia|22346.63157894737\n",
      "Hawaii|22446.842105263157\n",
      "Idaho|22888.57894736842\n",
      "Illinois|25122.28947368421\n",
      "Indiana|26218.86842105263\n",
      "Iowa|26475.026315789473\n",
      "Kansas|26809.21052631579\n",
      "Kentucky|27580.28947368421\n",
      "Louisiana|28454.605263157893\n",
      "Maine|28491.342105263157\n",
      "Maryland|29443.78947368421\n",
      "Massachusetts*|29454.86842105263\n",
      "Michigan|30699.42105263158\n",
      "Minnesota|31156.657894736843\n",
      "Mississippi|31386.184210526317\n",
      "Missouri|32688.447368421053\n",
      "Montana|32950.34210526316\n",
      "Nebraska|33199.39473684211\n",
      "Nevada|33990.78947368421\n",
      "New Hampshire|34383.81578947369\n",
      "New Jersey|35297.57894736842\n",
      "New Mexico|36266.0\n",
      "New York|39372.52631578947\n",
      "North Carolina|42667.60526315789\n",
      "North Dakota|42722.07894736842\n",
      "Ohio|45040.84210526316\n",
      "Oklahoma|45701.68421052631\n",
      "Oregon|46820.68421052631\n",
      "Pennsylvania|51626.81578947369\n",
      "Rhode Island|51754.97368421053\n",
      "South Carolina|53009.18421052631\n",
      "South Dakota|53149.71052631579\n",
      "Tennessee|54298.97368421053\n",
      "Texas|59827.28947368421\n",
      "Utah|60553.55263157895\n",
      "Vermont*|60554.42105263158\n",
      "Virginia|62203.23684210526\n",
      "Washington|62826.94736842105\n",
      "West Virginia|62937.23684210526\n",
      "Wisconsin|64340.0\n",
      "Wyoming|64522.68421052631\n",
      "Total|129044.81578947368\n"
     ]
    }
   ],
   "source": [
    "%%bash\n",
    "cat avg.txt"
   ]
  },
  {
   "cell_type": "code",
   "execution_count": 67,
   "metadata": {
    "collapsed": false
   },
   "outputs": [
    {
     "name": "stdout",
     "output_type": "stream",
     "text": [
      "[master a6e0cb9] Adding HW7\n",
      " 3 files changed, 464 insertions(+), 3 deletions(-)\n",
      " create mode 100644 avg.txt\n",
      " create mode 100644 week07-williams0692.ipynb\n"
     ]
    },
    {
     "name": "stderr",
     "output_type": "stream",
     "text": [
      "warning: push.default is unset; its implicit value has changed in\n",
      "Git 2.0 from 'matching' to 'simple'. To squelch this message\n",
      "and maintain the traditional behavior, use:\n",
      "\n",
      "  git config --global push.default matching\n",
      "\n",
      "To squelch this message and adopt the new behavior now, use:\n",
      "\n",
      "  git config --global push.default simple\n",
      "\n",
      "When push.default is set to 'matching', git will push local branches\n",
      "to the remote branches that already exist with the same name.\n",
      "\n",
      "Since Git 2.0, Git defaults to the more conservative 'simple'\n",
      "behavior, which only pushes the current branch to the corresponding\n",
      "remote branch that 'git pull' uses to update the current branch.\n",
      "\n",
      "See 'git help config' and search for 'push.default' for further information.\n",
      "(the 'simple' mode was introduced in Git 1.7.11. Use the similar mode\n",
      "'current' instead of 'simple' if you sometimes use older versions of Git)\n",
      "\n",
      "To git@github.com:williams0692/hds5210-week02.git\n",
      "   59ab7fe..a6e0cb9  master -> master\n"
     ]
    }
   ],
   "source": [
    "%%bash\n",
    "git add week07-williams0692.ipynb\n",
    "git add avg.txt\n",
    "git commit -a -m \"Adding HW7\"\n",
    "git push"
   ]
  }
 ],
 "metadata": {
  "kernelspec": {
   "display_name": "Python 3",
   "language": "python",
   "name": "python3"
  },
  "language_info": {
   "codemirror_mode": {
    "name": "ipython",
    "version": 3
   },
   "file_extension": ".py",
   "mimetype": "text/x-python",
   "name": "python",
   "nbconvert_exporter": "python",
   "pygments_lexer": "ipython3",
   "version": "3.4.3"
  }
 },
 "nbformat": 4,
 "nbformat_minor": 0
}
